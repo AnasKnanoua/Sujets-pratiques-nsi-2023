{
 "cells": [
  {
   "attachments": {},
   "cell_type": "markdown",
   "metadata": {},
   "source": [
    "BANQUE 2023"
   ]
  },
  {
   "attachments": {},
   "cell_type": "markdown",
   "metadata": {},
   "source": [
    "SUJET 1"
   ]
  },
  {
   "cell_type": "code",
   "execution_count": null,
   "metadata": {},
   "outputs": [],
   "source": [
    "def verifie(tab):\n",
    "    return  tab == sorted(tab)        \n",
    "verifie([-5,1,2,3,3,4])"
   ]
  },
  {
   "cell_type": "code",
   "execution_count": null,
   "metadata": {},
   "outputs": [],
   "source": [
    "def depouille(urne):\n",
    " resultat = {}\n",
    " for bulletin in urne:\n",
    "    if bulletin in resultat:\n",
    "        resultat[bulletin] = resultat[bulletin] + 1\n",
    "    else:\n",
    "        resultat[bulletin] = 1\n",
    " return resultat\n",
    "def vainqueur(election):\n",
    " vainqueur = ''\n",
    " nmax = 0\n",
    " for candidat in election:\n",
    "    if election[candidat] > nmax :\n",
    "        nmax = election[candidat]\n",
    "        vainqueur = candidat\n",
    " liste_finale = [nom for nom in election if election[nom] == nmax]\n",
    " return liste_finale"
   ]
  },
  {
   "cell_type": "code",
   "execution_count": null,
   "metadata": {},
   "outputs": [],
   "source": [
    "Urne = ['A', 'A', 'A', 'B', 'C', 'B', 'C', 'B', 'C', 'B']\n",
    "election = depouille(Urne)\n",
    "print(election)\n",
    "vainqueur(election)"
   ]
  },
  {
   "attachments": {},
   "cell_type": "markdown",
   "metadata": {},
   "source": [
    "SUJET 2"
   ]
  },
  {
   "cell_type": "code",
   "execution_count": null,
   "metadata": {},
   "outputs": [],
   "source": [
    "def indices_maxi(tab):\n",
    "    maxi = tab[0]\n",
    "    liste_indices = []\n",
    "    for nombre in tab:\n",
    "        if nombre>maxi:\n",
    "            maxi = nombre\n",
    "    for indice,elem in enumerate(tab):\n",
    "        if elem == maxi:\n",
    "            liste_indices.append(indice)\n",
    "    return maxi,liste_indices\n",
    "indices_maxi([1, 5, 6, 9, 1, 2, 3, 7, 9, 8])"
   ]
  },
  {
   "cell_type": "code",
   "execution_count": null,
   "metadata": {},
   "outputs": [],
   "source": [
    "def positif(pile):\n",
    "    pile_1 = list(pile)\n",
    "    pile_2 = []\n",
    "    while pile_1 != []:\n",
    "        x = pile_1.pop()\n",
    "        if x >= 0:\n",
    "            pile_2.append(x)\n",
    "    while pile_2 != []:\n",
    "        x = pile_2.pop()\n",
    "        pile_1.append(x)\n",
    "    return pile_1\n",
    "positif([-1, 0, 5, -3, 4, -6, 10, 9, -8])"
   ]
  },
  {
   "attachments": {},
   "cell_type": "markdown",
   "metadata": {},
   "source": [
    "SUJET 3"
   ]
  },
  {
   "cell_type": "code",
   "execution_count": null,
   "metadata": {},
   "outputs": [],
   "source": [
    "def moyenne(liste):\n",
    "    somme_coef = 0\n",
    "    numerateur = 0\n",
    "    for couple in liste:\n",
    "        somme_coef += couple[1]\n",
    "    if somme_coef == 0:\n",
    "        return None\n",
    "    else:\n",
    "        for couple in liste:\n",
    "            numerateur += couple[0]*couple[1]\n",
    "    moy = numerateur/somme_coef\n",
    "    return moy\n",
    "moyenne([(8, 2), (12, 0), (13.5, 1), (5, 0.5)])\n",
    "\n"
   ]
  },
  {
   "cell_type": "code",
   "execution_count": null,
   "metadata": {},
   "outputs": [],
   "source": [
    "coeur = [[0, 0, 0, 0, 0, 0, 0, 0, 0, 0, 0, 0, 0],\n",
    "        [0, 0, 0, 1, 1, 0, 0, 0, 1, 1, 0, 0, 0],\n",
    "        [0, 0, 1, 0, 0, 1, 0, 1, 0, 0, 1, 0, 0],\n",
    "        [0, 1, 0, 0, 0, 0, 1, 0, 0, 0, 0, 1, 0],\n",
    "        [0, 1, 0, 0, 0, 0, 0, 0, 0, 0, 0, 1, 0],\n",
    "        [0, 1, 0, 0, 0, 0, 0, 0, 0, 0, 0, 1, 0],\n",
    "        [0, 0, 1, 0, 0, 0, 0, 0, 0, 0, 1, 0, 0],\n",
    "        [0, 0, 0, 1, 0, 0, 0, 0, 0, 1, 0, 0, 0],\n",
    "        [0, 0, 0, 0, 1, 0, 0, 0, 1, 0, 0, 0, 0],\n",
    "        [0, 0, 0, 0, 0, 1, 0, 1, 0, 0, 0, 0, 0],\n",
    "        [0, 0, 0, 0, 0, 0, 1, 0, 0, 0, 0, 0, 0],\n",
    "        [0, 0, 0, 0, 0, 0, 0, 0, 0, 0, 0, 0, 0]]\n",
    "def affiche(dessin):\n",
    " ''' affichage d'une grille : les 1 sont représentés par\n",
    " des \" *\" , les 0 par deux espaces \" \".\n",
    "La valeur \"\" donnée au paramètre end permet de ne pas avoir\n",
    "de saut de ligne.'''\n",
    " for ligne in dessin:\n",
    "    for col in ligne:\n",
    "        if col == 1:\n",
    "            print(\" *\", end= \"\")\n",
    "        else:\n",
    "            print(\" \", end= \"\")\n",
    "    print()"
   ]
  },
  {
   "cell_type": "code",
   "execution_count": null,
   "metadata": {},
   "outputs": [],
   "source": [
    "def zoomListe(liste_depart, k):\n",
    " '''renvoie une liste contenant k fois chaque\n",
    " élément de liste_depart'''\n",
    " liste_zoom = []\n",
    " for elt in liste_depart :\n",
    "    for i in range(k):\n",
    "        liste_zoom.append(elt)\n",
    " return liste_zoom\n",
    "def zoomDessin(grille, k):\n",
    " '''renvoie une grille où les lignes sont zoomées k fois\n",
    " ET répétées k fois'''\n",
    " grille_zoom = []\n",
    " for elt in grille:\n",
    "    liste_zoom = zoomListe(elt,k)\n",
    "    for i in range(k):\n",
    "        grille_zoom.append(liste_zoom)\n",
    " return grille_zoom"
   ]
  },
  {
   "cell_type": "code",
   "execution_count": null,
   "metadata": {},
   "outputs": [],
   "source": [
    "affiche(coeur)"
   ]
  },
  {
   "cell_type": "code",
   "execution_count": null,
   "metadata": {},
   "outputs": [],
   "source": [
    "affiche(zoomDessin(coeur, 3)) "
   ]
  },
  {
   "attachments": {},
   "cell_type": "markdown",
   "metadata": {},
   "source": [
    "Sujet 4"
   ]
  },
  {
   "cell_type": "code",
   "execution_count": 1,
   "metadata": {},
   "outputs": [
    {
     "data": {
      "text/plain": [
       "True"
      ]
     },
     "execution_count": 1,
     "metadata": {},
     "output_type": "execute_result"
    }
   ],
   "source": [
    "def a_doublon(tab):\n",
    "    for i in range(len(tab)-1):\n",
    "        if tab[i]==tab[i+1]:\n",
    "            return True\n",
    "    return False\n",
    "a_doublon([2, 5, 7, 7, 7, 9])\n"
   ]
  },
  {
   "cell_type": "code",
   "execution_count": 6,
   "metadata": {},
   "outputs": [
    {
     "data": {
      "text/plain": [
       "[[1, 1, 1, 0, 0],\n",
       " [1, -1, 1, 1, 1],\n",
       " [2, 2, 3, 2, -1],\n",
       " [1, -1, 2, -1, 3],\n",
       " [1, 1, 2, 2, -1]]"
      ]
     },
     "execution_count": 6,
     "metadata": {},
     "output_type": "execute_result"
    }
   ],
   "source": [
    "bombes = [(1, 1), (2, 4), (3, 1), (3, 3), (4, 4)]\n",
    "grille_test = [[1, 1, 1, 0, 0], [1, -1, 1, 1, 1], [2, 2, 3, 2, -1], [1, -1, 2, -1, 3], [1, 1, 2, 2, -1]]\n",
    "\n",
    "def voisinage(n, ligne, colonne):\n",
    "    \"\"\" Renvoie la liste des coordonnÃ©es des voisins de la case\n",
    "        (ligne, colonne) en gÃ¨rant les cases sur les bords. \"\"\"\n",
    "    voisins = []\n",
    "    for l in range(max(0,ligne-1), min(n, ligne+2)):\n",
    "        for c in range(max(0, colonne-1), min(n, colonne+2)):\n",
    "            if (l, c) != (ligne, colonne):\n",
    "                voisins.append((l,c))\n",
    "    return voisins\n",
    "\n",
    "def incremente_voisins(grille, ligne, colonne):\n",
    "    \"\"\" IncrÃ©mente de 1 toutes les cases voisines d'une bombe. \"\"\"\n",
    "    voisins = voisinage(len(grille), ligne, colonne)\n",
    "    for l, c in voisins:\n",
    "        if grille[l][c] != -1: # si ce n'est pas une bombe\n",
    "            grille[l][c] +=1 \t\t# on ajoute 1 Ã  sa valeur\n",
    "\n",
    "def genere_grille(bombes):\n",
    "    \"\"\" Renvoie une grille de dÃ©mineur de taille nxn oÃ¹ n est\n",
    "        le nombre de bombes, en plaÃ§ant les bombes Ã  l'aide de\n",
    "        la liste bombes de coordonnÃ©es (tuples) passÃ©e en\n",
    "        paramÃ¨tre. \"\"\"\n",
    "    n = len(bombes)\n",
    "    # Initialisation d'une grille nxn remplie de 0\n",
    "    grille = [[0 for colonne in range(n)] for ligne in range(n)]\n",
    "\n",
    "    # Place les bombes et calcule les valeurs des autres cases\n",
    "    for ligne, colonne in bombes:\n",
    "        grille[ligne][colonne] = -1  # place la bombe\n",
    "        incremente_voisins(grille, ligne, colonne)  # incrÃ©mente ses voisins\n",
    "\n",
    "    return grille\n",
    "genere_grille([(1, 1), (2, 4), (3, 1), (3, 3), (4, 4)])"
   ]
  },
  {
   "attachments": {},
   "cell_type": "markdown",
   "metadata": {},
   "source": [
    "Sujet 5"
   ]
  },
  {
   "cell_type": "code",
   "execution_count": 15,
   "metadata": {},
   "outputs": [
    {
     "name": "stdout",
     "output_type": "stream",
     "text": [
      "[6, 6, 3, 3, 3]\n"
     ]
    },
    {
     "data": {
      "text/plain": [
       "True"
      ]
     },
     "execution_count": 15,
     "metadata": {},
     "output_type": "execute_result"
    }
   ],
   "source": [
    "import random as rd\n",
    "def lancer(n):\n",
    "    liste = []\n",
    "    for i in range(n):\n",
    "        liste.append(rd.randint(1,6))\n",
    "    return liste\n",
    "def paire_6(tab):\n",
    "    nbr_de_six = 0\n",
    "    for nombre in tab:\n",
    "        if nombre == 6:\n",
    "            nbr_de_six +=1\n",
    "    if nbr_de_six >=2:\n",
    "        return True\n",
    "    return False\n",
    "lancer1 = lancer(5)\n",
    "print(lancer1)\n",
    "paire_6(lancer1)"
   ]
  },
  {
   "cell_type": "code",
   "execution_count": 34,
   "metadata": {},
   "outputs": [],
   "source": [
    "img=[[20, 34, 254, 145, 6], [23, 124, 237, 225, 69], [197, 174, 207, 25, 87], [255, 0, 24, 197, 189]]\n",
    "\n",
    "def nbLig(image):\n",
    "    '''renvoie le nombre de lignes de l'image'''\n",
    "    return len(image)\n",
    "\n",
    "def nbCol(image):\n",
    "    '''renvoie la largeur de l'image'''\n",
    "    return len(image[0])\n",
    "\n",
    "def negatif(image):\n",
    "    '''renvoie le negatif de l'image sous la forme\n",
    "       d'une liste de listes'''\n",
    "\n",
    "    # on cree une image de 0 aux memes dimensions que le parametre image\n",
    "    L = [[0 for k in range(nbCol(image))] for i in range(nbLig(image))]\n",
    "\n",
    "    for i in range(nbLig(image)):\n",
    "        for j in range(nbCol(image)):\n",
    "            L[i][j] = 255 - image[i][j]\n",
    "    return L\n",
    "\n",
    "def binaire(image, seuil):\n",
    "    '''renvoie une image binarisee de l'image sous la forme\n",
    "       d'une liste de listes contenant des 0 si la valeur\n",
    "       du pixel est strictement inferieure au seuil\n",
    "       et 1 sinon'''\n",
    "\n",
    "    # on cree une image de 0 aux memes dimensions que le parametre image\n",
    "    L = [[0 for k in range(nbCol(image))] for i in range(nbLig(image))]\n",
    "\n",
    "    for i in range(nbLig(image)):\n",
    "        for j in range(nbCol(image)):\n",
    "            if image[i][j] < seuil :\n",
    "                L[i][j] = 0\n",
    "            else:\n",
    "                L[i][j] = 1\n",
    "    return L"
   ]
  },
  {
   "cell_type": "code",
   "execution_count": 35,
   "metadata": {},
   "outputs": [
    {
     "name": "stdout",
     "output_type": "stream",
     "text": [
      "4\n",
      "5\n",
      "[[235, 221, 1, 110, 249], [232, 131, 18, 30, 186], [58, 81, 48, 230, 168], [0, 255, 231, 58, 66]]\n"
     ]
    }
   ],
   "source": [
    "print(nbLig(img))\n",
    "print(nbCol(img))\n",
    "print(negatif(img))\n"
   ]
  },
  {
   "cell_type": "code",
   "execution_count": 22,
   "metadata": {},
   "outputs": [
    {
     "data": {
      "text/plain": [
       "[[0, 0, 1, 1, 0], [0, 1, 1, 1, 0], [1, 1, 1, 0, 0], [1, 0, 0, 1, 1]]"
      ]
     },
     "execution_count": 22,
     "metadata": {},
     "output_type": "execute_result"
    }
   ],
   "source": [
    "binaire(img,120)"
   ]
  },
  {
   "attachments": {},
   "cell_type": "markdown",
   "metadata": {},
   "source": [
    "Sujet 6"
   ]
  },
  {
   "cell_type": "code",
   "execution_count": 40,
   "metadata": {},
   "outputs": [
    {
     "data": {
      "text/plain": [
       "3"
      ]
     },
     "execution_count": 40,
     "metadata": {},
     "output_type": "execute_result"
    }
   ],
   "source": [
    "def recherche(tab,n):\n",
    "    indice = len(tab)\n",
    "    for index,num in enumerate(tab):\n",
    "        if num==n:\n",
    "            indice = index\n",
    "    return indice\n",
    "recherche([2, 3, 5, 2, 4], 2)\n"
   ]
  },
  {
   "cell_type": "code",
   "execution_count": 41,
   "metadata": {},
   "outputs": [],
   "source": [
    "from math import sqrt   # import de la fonction racine carree\n",
    "\n",
    "def distance(point1, point2):\n",
    "    \"\"\" Calcule et renvoie la distance entre deux points. \"\"\"\n",
    "    return sqrt((point1[0]-point2[0])**2 + (point1[1]-point2[1])**2)\n",
    "\n",
    "def plus_courte_distance(tab, depart):\n",
    "    \"\"\" Renvoie le point du tableau tab se trouvant a la plus\n",
    "    courte distance du point depart.\"\"\"\n",
    "    point = tab[0]\n",
    "    min_dist = distance(point,depart)\n",
    "    for i in range (1, len(tab)):\n",
    "        if distance(tab[i], depart)<min_dist:\n",
    "            point = tab[i]\n",
    "            min_dist = distance(tab[i], depart)\n",
    "    return point\n"
   ]
  },
  {
   "cell_type": "code",
   "execution_count": 49,
   "metadata": {},
   "outputs": [
    {
     "data": {
      "text/plain": [
       "5.0"
      ]
     },
     "execution_count": 49,
     "metadata": {},
     "output_type": "execute_result"
    }
   ],
   "source": [
    "distance((1, 0), (5, 3))"
   ]
  },
  {
   "cell_type": "code",
   "execution_count": 45,
   "metadata": {},
   "outputs": [
    {
     "data": {
      "text/plain": [
       "(2, 5)"
      ]
     },
     "execution_count": 45,
     "metadata": {},
     "output_type": "execute_result"
    }
   ],
   "source": [
    "plus_courte_distance([(7, 9), (2, 5), (5, 2)], (0, 0))"
   ]
  },
  {
   "cell_type": "code",
   "execution_count": 46,
   "metadata": {},
   "outputs": [
    {
     "data": {
      "text/plain": [
       "(5, 2)"
      ]
     },
     "execution_count": 46,
     "metadata": {},
     "output_type": "execute_result"
    }
   ],
   "source": [
    "plus_courte_distance([(7, 9), (2, 5), (5, 2)], (5, 2))"
   ]
  },
  {
   "attachments": {},
   "cell_type": "markdown",
   "metadata": {},
   "source": [
    "Sujet 7"
   ]
  },
  {
   "cell_type": "code",
   "execution_count": 51,
   "metadata": {},
   "outputs": [
    {
     "data": {
      "text/plain": [
       "[-3, -2, 4, 5, 10]"
      ]
     },
     "execution_count": 51,
     "metadata": {},
     "output_type": "execute_result"
    }
   ],
   "source": [
    "def fusion(a,b):\n",
    "    if len(a)==0:\n",
    "        return b\n",
    "    if len(b)==0:\n",
    "        return a\n",
    "    if a[0]<b[0]:\n",
    "        return [a[0]]+fusion(a[1:],b)\n",
    "    else:\n",
    "        return [b[0]]+fusion(a,b[1:])\n",
    "fusion([-2, 4], [-3, 5, 10])"
   ]
  },
  {
   "cell_type": "code",
   "execution_count": 53,
   "metadata": {},
   "outputs": [
    {
     "name": "stdout",
     "output_type": "stream",
     "text": [
      "14\n",
      "2023\n"
     ]
    }
   ],
   "source": [
    "romains = {\"I\":1, \"V\":5, \"X\":10, \"L\":50, \"C\":100, \"D\":500, \"M\":1000}\n",
    "\n",
    "def traduire_romain(nombre) :\n",
    "    \"\"\" Renvoie l'ecriture decimale du nombre donnÃ© en chiffres romains \"\"\"\n",
    "\n",
    "    if len(nombre) == 1:\n",
    "        return romains[nombre]\n",
    "\n",
    "    elif romains[nombre[0]] >= romains[nombre[1]] :\n",
    "        return romains[nombre[0]] + traduire_romain(nombre[1:])\n",
    "    else:\n",
    "        return traduire_romain(nombre[1:]) - romains[nombre[0]] \n",
    "\n",
    "\n",
    "print(traduire_romain(\"XIV\"))\n",
    "print(traduire_romain(\"MMXXIII\"))"
   ]
  },
  {
   "attachments": {},
   "cell_type": "markdown",
   "metadata": {},
   "source": [
    "SUJET 15"
   ]
  },
  {
   "cell_type": "code",
   "execution_count": 63,
   "metadata": {},
   "outputs": [
    {
     "data": {
      "text/plain": [
       "(12.5, 2016)"
      ]
     },
     "execution_count": 63,
     "metadata": {},
     "output_type": "execute_result"
    }
   ],
   "source": [
    "t_moy = [14.9,13.3,13.1,12.5,13.0,13.6,13.7]\n",
    "annees = [2013,2014,2015,2016,2017,2018,2019]\n",
    "def mini(releve,date):\n",
    "    mini = releve[0]\n",
    "    ind_mini = 0\n",
    "    for index,temp in enumerate(releve):\n",
    "        if temp < mini:\n",
    "            mini = temp\n",
    "            ind_mini = index\n",
    "    return mini,date[ind_mini]\n",
    "\n",
    "mini(t_moy,annees)"
   ]
  },
  {
   "cell_type": "code",
   "execution_count": 67,
   "metadata": {},
   "outputs": [],
   "source": [
    "def inverse_chaine(chaine):\n",
    " result = \"\"\n",
    " for caractere in chaine:\n",
    "    result = caractere + result\n",
    " return result\n",
    "def est_palindrome(chaine):\n",
    " inverse = inverse_chaine(chaine)\n",
    " return inverse == chaine\n",
    "\n",
    "def est_nbre_palindrome(nbre):\n",
    " chaine = str(nbre)\n",
    " return est_palindrome(chaine)"
   ]
  },
  {
   "cell_type": "code",
   "execution_count": 72,
   "metadata": {},
   "outputs": [
    {
     "data": {
      "text/plain": [
       "True"
      ]
     },
     "execution_count": 72,
     "metadata": {},
     "output_type": "execute_result"
    }
   ],
   "source": [
    "est_nbre_palindrome(131)"
   ]
  },
  {
   "attachments": {},
   "cell_type": "markdown",
   "metadata": {},
   "source": [
    "SUJET 8"
   ]
  },
  {
   "cell_type": "code",
   "execution_count": 80,
   "metadata": {},
   "outputs": [
    {
     "name": "stdout",
     "output_type": "stream",
     "text": [
      "('Ada', 201)\n",
      "('Alan', 222)\n"
     ]
    }
   ],
   "source": [
    "def max_dico(dico):\n",
    "    values = list(dico.values())\n",
    "    max = values[0]\n",
    "    for elem in values:\n",
    "        if elem> max:\n",
    "            max = elem\n",
    "    for cle in dico:\n",
    "        if dico[cle]==max:\n",
    "            return cle,max\n",
    "print(max_dico({'Bob': 102, 'Ada': 201, 'Alice': 103, 'Tim': 50}))\n",
    "print(max_dico({'Alan': 222, 'Ada': 201, 'Eve': 220, 'Tim': 50}))\n",
    "        "
   ]
  },
  {
   "cell_type": "code",
   "execution_count": 82,
   "metadata": {},
   "outputs": [
    {
     "data": {
      "text/plain": [
       "25"
      ]
     },
     "execution_count": 82,
     "metadata": {},
     "output_type": "execute_result"
    }
   ],
   "source": [
    "class Pile:\n",
    " \"\"\"\n",
    "Classe définissant une structure de pile.\n",
    " \"\"\"\n",
    " def __init__(self):\n",
    "    self.contenu = []\n",
    " def est_vide(self):\n",
    "    \"\"\"\n",
    "    Renvoie le booléen True si la pile est vide, False sinon.\n",
    "    \"\"\"\n",
    "    return self.contenu == []\n",
    " def empiler(self, v):\n",
    "    \"\"\"\n",
    "    Place l’élément v au sommet de la pile.\n",
    "    \"\"\"\n",
    "    self.contenu.append(v)\n",
    " def depiler(self):\n",
    "    \"\"\"\n",
    "    Retire et renvoie l’élément placé au sommet de la pile,\n",
    "    si la pile n’est pas vide.\n",
    "    \"\"\"\n",
    "    if not self.est_vide():\n",
    "        return self.contenu.pop()\n",
    "\n",
    "\n",
    "def eval_expression(tab):\n",
    "    p = Pile()\n",
    "    for element in tab:\n",
    "        if element != '+' and element != '*':\n",
    "            p.empiler(element)\n",
    "        else:\n",
    "            if element == '+':\n",
    "                resultat = p.depiler() + p.depiler()\n",
    "            else:\n",
    "                resultat = p.depiler() * p.depiler()\n",
    "            p.empiler(resultat)\n",
    "    return resultat\n",
    "eval_expression([2, 3, '+', 5, '*'])\n"
   ]
  },
  {
   "attachments": {},
   "cell_type": "markdown",
   "metadata": {},
   "source": [
    "SUJET 9"
   ]
  },
  {
   "cell_type": "code",
   "execution_count": 125,
   "metadata": {},
   "outputs": [
    {
     "data": {
      "text/plain": [
       "0"
      ]
     },
     "execution_count": 125,
     "metadata": {},
     "output_type": "execute_result"
    }
   ],
   "source": [
    "def multiplication(n,m):\n",
    "    somme = 0\n",
    "    if (n>0 and m>0) or (n>0 and m<0):\n",
    "        for i in range(n):\n",
    "            somme += m\n",
    "    elif n<0 and m>0:\n",
    "        for i in range(m):\n",
    "            somme += n\n",
    "    else:\n",
    "        tmp = n\n",
    "        for i in range(2):\n",
    "            n = n-tmp\n",
    "        temp = m\n",
    "        for i in range(2):\n",
    "            m = m-temp\n",
    "        for i in range(n):\n",
    "            somme += m\n",
    "    return somme\n",
    "\n",
    "\n",
    "def mult(n,m):\n",
    "    somme = 0\n",
    "    if n > 0:\n",
    "        for k in range(n):\n",
    "            somme += m\n",
    "    else:\n",
    "        for k in range(-n):\n",
    "            somme -= m\n",
    "    return somme\n",
    "\n",
    "mult(0,-5)  "
   ]
  },
  {
   "cell_type": "code",
   "execution_count": 95,
   "metadata": {},
   "outputs": [],
   "source": [
    "def chercher(tab, n, i, j):\n",
    " if i < 0 or j > len(tab):\n",
    "    return None\n",
    " elif i > j:\n",
    "    return None\n",
    " m = (i + j) // 2\n",
    " if tab[m] < n:\n",
    "    return chercher(tab, n, i+1, j)\n",
    " elif tab[m] > n:\n",
    "    return chercher(tab, n, i, j-1)\n",
    " else:\n",
    "    return m"
   ]
  },
  {
   "cell_type": "code",
   "execution_count": 96,
   "metadata": {},
   "outputs": [
    {
     "name": "stdout",
     "output_type": "stream",
     "text": [
      "4\n",
      "2\n"
     ]
    }
   ],
   "source": [
    "print(chercher([1, 5, 6, 6, 9, 12], 9, 0, 5))\n",
    "print(chercher([1, 5, 6, 6, 9, 12], 6, 0, 5))"
   ]
  },
  {
   "attachments": {},
   "cell_type": "markdown",
   "metadata": {},
   "source": [
    "SUJET 10\n"
   ]
  },
  {
   "cell_type": "code",
   "execution_count": 122,
   "metadata": {},
   "outputs": [
    {
     "data": {
      "text/plain": [
       "131"
      ]
     },
     "execution_count": 122,
     "metadata": {},
     "output_type": "execute_result"
    }
   ],
   "source": [
    "def maxliste(tab):\n",
    "    maxi = tab[0]\n",
    "    for elem in tab:\n",
    "        if elem >maxi:\n",
    "            maxi = elem\n",
    "    return maxi\n",
    "maxliste([98, 12, 104, 23, 131, 9])\n"
   ]
  },
  {
   "cell_type": "code",
   "execution_count": 128,
   "metadata": {},
   "outputs": [
    {
     "data": {
      "text/plain": [
       "True"
      ]
     },
     "execution_count": 128,
     "metadata": {},
     "output_type": "execute_result"
    }
   ],
   "source": [
    "class Pile:\n",
    " \"\"\"\n",
    " Classe définissant une pile\n",
    " \"\"\"\n",
    " def __init__(self):\n",
    "    self.valeurs = []\n",
    " def est_vide(self):\n",
    "    \"\"\"\n",
    "    Renvoie True si la pile est vide, False sinon\n",
    "    \"\"\"\n",
    "    return self.valeurs == []\n",
    " def empiler(self, c):\n",
    "    \"\"\"\n",
    "    Place l’élément c au sommet de la pile\n",
    "    \"\"\"\n",
    "    self.valeurs.append(c)\n",
    " def depiler(self):\n",
    "    \"\"\"\n",
    "    Supprime l’élément placé au sommet de la pile, à\n",
    "    condition\n",
    "    qu’elle soit non vide\n",
    "    \"\"\"\n",
    "    if self.est_vide() == False:\n",
    "        self.valeurs.pop()\n",
    "\n",
    "def parenthesage(ch):\n",
    " \"\"\"\n",
    " Renvoie True si la chaîne ch est bien parenthésée\n",
    " et False sinon\n",
    " \"\"\"\n",
    " p = Pile()\n",
    " for c in ch:\n",
    "   if c == '(':\n",
    "      p.empiler(c)\n",
    "   elif c == ')':\n",
    "      if p.est_vide():\n",
    "         return False\n",
    "      else:\n",
    "         p.depiler()\n",
    " return p.est_vide()\n",
    "parenthesage(\"((()())(()))\")\n"
   ]
  },
  {
   "attachments": {},
   "cell_type": "markdown",
   "metadata": {},
   "source": [
    "SUJET 11  "
   ]
  },
  {
   "cell_type": "code",
   "execution_count": 14,
   "metadata": {},
   "outputs": [
    {
     "name": "stdout",
     "output_type": "stream",
     "text": [
      "130\n",
      "83\n"
     ]
    }
   ],
   "source": [
    "\n",
    "def convertir(tab):\n",
    "    \"\"\"\n",
    "    tab est un tableau d'entiers, dont les éléments sont 0 ou 1,\n",
    "    et représentant un entier écrit en binaire.\n",
    "    Renvoie l'écriture décimale de l'entier positif dont la\n",
    "    repré\n",
    "    \"\"\"\n",
    "    nombre  = 0\n",
    "    n = len(tab)-1\n",
    "    for i in range(len(tab)):\n",
    "        if tab[i] == 1:            \n",
    "            nombre += 2**n\n",
    "        n-=1\n",
    "    return nombre\n",
    "print(convertir([1, 0, 0, 0, 0, 0, 1, 0]))\n",
    "print(convertir([1, 0, 1, 0, 0, 1, 1]))\n",
    "\n",
    "\n",
    "    "
   ]
  },
  {
   "cell_type": "code",
   "execution_count": 17,
   "metadata": {},
   "outputs": [
    {
     "name": "stdout",
     "output_type": "stream",
     "text": [
      "[0, 1, 2, 3, 4, 5, 6, 7, 8, 9, 10]\n"
     ]
    }
   ],
   "source": [
    "def tri_insertion(tab):\n",
    "    n = len(tab)\n",
    "    for i in range(1, n):\n",
    "        valeur_insertion = tab[i]\n",
    "        # la variable j est utilisée pour déterminer où placer la valeur à insérer\n",
    "        j = i\n",
    "        # tant qu'on a pas trouvé la place de l'élément à insérer\n",
    "        # on décale les valeurs du tableau vers la droite\n",
    "        while j > 0 and valeur_insertion < tab[j-1]:\n",
    "            tab[j] = tab[j-1]\n",
    "            j = j-1\n",
    "        tab[j] = valeur_insertion\n",
    "    \n",
    "liste = [9, 5, 8, 4, 0, 2, 7, 1, 10, 3, 6]\n",
    "tri_insertion(liste)\n",
    "print(liste)"
   ]
  },
  {
   "attachments": {},
   "cell_type": "markdown",
   "metadata": {},
   "source": [
    "SUJET 12"
   ]
  },
  {
   "cell_type": "code",
   "execution_count": 4,
   "metadata": {},
   "outputs": [
    {
     "name": "stdout",
     "output_type": "stream",
     "text": [
      "(((None,-5,None),0,None),1,(None,2,(None,3,None)))\n"
     ]
    }
   ],
   "source": [
    "#Tres dur\n",
    "\n",
    "class ABR:\n",
    "    def __init__(self, g0, v0, d0):\n",
    "        self.gauche = g0\n",
    "        self.cle = v0\n",
    "        self.droit = d0\n",
    "    def __str__(self):\n",
    "        return f\"({self.gauche},{self.cle},{self.droit})\"\n",
    "\n",
    "n0 = ABR(None, 0, None)\n",
    "n3 = ABR(None, 3, None)\n",
    "n2 = ABR(None, 2, n3)\n",
    "abr1 = ABR(n0, 1, n2)\n",
    "\n",
    "def ajouter(cle,a):\n",
    "    \n",
    "    if a.gauche == None and a.droit == None:\n",
    "        if cle<a.cle:\n",
    "            a.gauche = ABR(None,cle,None)\n",
    "            return a\n",
    "        else:\n",
    "            a.droit = ABR(None,cle,None)\n",
    "            return a\n",
    "    if cle<a.cle:\n",
    "        return ABR(ajouter(cle,a.gauche),a.cle,a.droit)\n",
    "    elif cle>a.cle:\n",
    "        return ABR(a.gauche,a.cle,ajouter(cle,a.droit))\n",
    "\n",
    "a = ajouter(-5, abr1)\n",
    "\n",
    "print(a)\n"
   ]
  },
  {
   "cell_type": "code",
   "execution_count": 12,
   "metadata": {},
   "outputs": [
    {
     "data": {
      "text/plain": [
       "5"
      ]
     },
     "execution_count": 12,
     "metadata": {},
     "output_type": "execute_result"
    }
   ],
   "source": [
    "def empaqueter(liste_masses, c):\n",
    "    n = len(liste_masses)\n",
    "    nb_boites = 0\n",
    "    boites = [0]*n\n",
    "    for masse in liste_masses :\n",
    "        i = 0\n",
    "        while i <= nb_boites and boites[i] + masse > c:\n",
    "                i = i + 1\n",
    "        if i == nb_boites + 1:\n",
    "            nb_boites+=1\n",
    "        boites[i] = boites[i]+masse\n",
    "    return nb_boites+1\n",
    "empaqueter([7, 6, 3, 4, 8, 5, 9, 2], 11)\n",
    "\n",
    "\n"
   ]
  },
  {
   "attachments": {},
   "cell_type": "markdown",
   "metadata": {},
   "source": [
    "SUJET 13"
   ]
  },
  {
   "cell_type": "code",
   "execution_count": 1,
   "metadata": {},
   "outputs": [
    {
     "data": {
      "text/plain": [
       "3"
      ]
     },
     "execution_count": 1,
     "metadata": {},
     "output_type": "execute_result"
    }
   ],
   "source": [
    "def rechercher(v,tab):\n",
    "    nbr = 0\n",
    "    for elem in tab:\n",
    "        if elem == v:\n",
    "            nbr+=1\n",
    "    return nbr\n",
    "rechercher(5, [-2, 5, 3, 5, 4, 5])\n"
   ]
  },
  {
   "cell_type": "code",
   "execution_count": 5,
   "metadata": {},
   "outputs": [
    {
     "data": {
      "text/plain": [
       "[200, 100, 50, 20, 20, 5, 2, 1]"
      ]
     },
     "execution_count": 5,
     "metadata": {},
     "output_type": "execute_result"
    }
   ],
   "source": [
    "pieces = [1, 2, 5, 10, 20, 50, 100, 200]\n",
    "def rendu_monnaie(somme_due, somme_versee):\n",
    " rendu = []\n",
    " a_rendre = somme_versee-somme_due\n",
    " i = len(pieces) - 1\n",
    " while a_rendre>0 :\n",
    "    if pieces[i] <= a_rendre:\n",
    "        rendu.append(pieces[i])\n",
    "        a_rendre -= pieces[i]\n",
    "    else:\n",
    "        i = i-1\n",
    " return rendu\n",
    "rendu_monnaie(102, 500)\n"
   ]
  },
  {
   "attachments": {},
   "cell_type": "markdown",
   "metadata": {},
   "source": [
    "Sujet 14"
   ]
  },
  {
   "cell_type": "code",
   "execution_count": 8,
   "metadata": {},
   "outputs": [
    {
     "data": {
      "text/plain": [
       "1"
      ]
     },
     "execution_count": 8,
     "metadata": {},
     "output_type": "execute_result"
    }
   ],
   "source": [
    "def recherche(v,tab):\n",
    "    for i in range(len(tab)):\n",
    "        if tab[i]==v:\n",
    "            return i\n",
    "    return -1\n",
    "recherche(4, [2, 4, 4, 3, 4])\n",
    "\n"
   ]
  },
  {
   "cell_type": "code",
   "execution_count": 25,
   "metadata": {},
   "outputs": [
    {
     "data": {
      "text/plain": [
       "[1]"
      ]
     },
     "execution_count": 25,
     "metadata": {},
     "output_type": "execute_result"
    }
   ],
   "source": [
    "def insere(a, tab):\n",
    " \"\"\" Insère l'élément a (int) dans le tableau tab (list)\n",
    " trié par ordre croissant à sa place et renvoie le\n",
    " nouveau tableau. \"\"\"\n",
    " l = list(tab) #l contient les mêmes éléments que tab\n",
    " l.append(a)\n",
    " i = len(tab)-1\n",
    " \n",
    " while a < l[i] and i >= 0:\n",
    "    \n",
    "    l[i+1] = l[i]\n",
    "    l[i] = a\n",
    "    i = i-1\n",
    " return l\n",
    "insere(1, [])\n"
   ]
  },
  {
   "attachments": {},
   "cell_type": "markdown",
   "metadata": {},
   "source": [
    "SUJET 15"
   ]
  },
  {
   "cell_type": "code",
   "execution_count": 27,
   "metadata": {},
   "outputs": [
    {
     "data": {
      "text/plain": [
       "(12.5, 2016)"
      ]
     },
     "execution_count": 27,
     "metadata": {},
     "output_type": "execute_result"
    }
   ],
   "source": [
    "t_moy = [14.9, 13.3, 13.1, 12.5, 13.0, 13.6, 13.7]\n",
    "annees = [2013, 2014, 2015, 2016, 2017, 2018, 2019]\n",
    "def mini(releve,date):\n",
    "    mini = releve[0]\n",
    "    min_indice = 0\n",
    "    for i in range(len(releve)):\n",
    "        if releve[i]<mini:\n",
    "            mini = releve[i]\n",
    "            min_indice = i\n",
    "    return mini,date[min_indice]\n",
    "mini(t_moy, annees)\n"
   ]
  },
  {
   "cell_type": "code",
   "execution_count": 33,
   "metadata": {},
   "outputs": [
    {
     "data": {
      "text/plain": [
       "True"
      ]
     },
     "execution_count": 33,
     "metadata": {},
     "output_type": "execute_result"
    }
   ],
   "source": [
    "def inverse_chaine(chaine):\n",
    " result = \"\"\n",
    " for caractere in chaine:\n",
    "    result = caractere+result\n",
    " return result\n",
    "def est_palindrome(chaine):\n",
    " inverse = inverse_chaine(chaine)\n",
    " return chaine==inverse\n",
    "\n",
    "def est_nbre_palindrome(nbre):\n",
    " chaine = str(nbre)\n",
    " return est_palindrome(chaine)\n",
    "\n",
    "inverse_chaine('bac')\n",
    "est_palindrome('NSI')\n",
    "est_palindrome('ISN-NSI')\n",
    "est_nbre_palindrome(213312)\n",
    "\n"
   ]
  },
  {
   "attachments": {},
   "cell_type": "markdown",
   "metadata": {},
   "source": [
    "SUJET 16"
   ]
  },
  {
   "cell_type": "code",
   "execution_count": 34,
   "metadata": {},
   "outputs": [
    {
     "data": {
      "text/plain": [
       "([0, 3, 7], [1, 6], [2, 4, 5])"
      ]
     },
     "execution_count": 34,
     "metadata": {},
     "output_type": "execute_result"
    }
   ],
   "source": [
    "def recherche_indices_classement(elt,tab):\n",
    "    inf = []\n",
    "    same = []\n",
    "    sup = []\n",
    "    for i in range(len(tab)):\n",
    "        if tab[i]<elt:\n",
    "            inf.append(i)\n",
    "        elif tab[i]>elt:\n",
    "            sup.append(i)\n",
    "        else:\n",
    "            same.append(i)\n",
    "    return inf,same,sup\n",
    "recherche_indices_classement(3, [1, 3, 4, 2, 4, 6, 3, 0])\n"
   ]
  },
  {
   "cell_type": "code",
   "execution_count": 37,
   "metadata": {},
   "outputs": [
    {
     "data": {
      "text/plain": [
       "9.2"
      ]
     },
     "execution_count": 37,
     "metadata": {},
     "output_type": "execute_result"
    }
   ],
   "source": [
    "resultats = {'Dupont': {\n",
    " 'DS1': [15.5, 4],\n",
    "'DM1': [14.5, 1],\n",
    "'DS2': [13, 4],\n",
    " 'PROJET1': [16, 3],\n",
    " 'DS3': [14, 4]\n",
    " },\n",
    " 'Durand': {\n",
    " 'DS1': [6 , 4],\n",
    "'DM1': [14.5, 1],\n",
    "'DS2': [8, 4],\n",
    "'PROJET1': [9, 3],\n",
    "'IE1': [7, 2],\n",
    "'DS3': [8, 4],\n",
    "'DS4':[15, 4]\n",
    " }\n",
    " }\n",
    "\n",
    "\n",
    "\n",
    "def moyenne(nom, dico_result):\n",
    " if nom in dico_result:\n",
    "    notes = dico_result[nom]\n",
    "    total_points = 0\n",
    "    total_coefficients = 0\n",
    "    for valeurs in notes.values():\n",
    "        note, coefficient = valeurs\n",
    "        total_points = total_points + note * coefficient\n",
    "        total_coefficients = total_coefficients + coefficient\n",
    "    return round( total_points / total_coefficients, 1 )\n",
    " else:\n",
    "    return -1\n",
    "moyenne('Durand',resultats)"
   ]
  },
  {
   "attachments": {},
   "cell_type": "markdown",
   "metadata": {},
   "source": [
    "SUJET 17"
   ]
  },
  {
   "cell_type": "code",
   "execution_count": 38,
   "metadata": {},
   "outputs": [
    {
     "data": {
      "text/plain": [
       "12.5"
      ]
     },
     "execution_count": 38,
     "metadata": {},
     "output_type": "execute_result"
    }
   ],
   "source": [
    "def moyenne(liste_notes):\n",
    "    somme_coef = 0\n",
    "    numerateur = 0\n",
    "    for tupl in liste_notes:\n",
    "        somme_coef+=tupl[1]\n",
    "        numerateur+=tupl[0]*tupl[1]\n",
    "    return numerateur/somme_coef\n",
    "moyenne([(15, 2), (9, 1), (12, 3)])"
   ]
  },
  {
   "cell_type": "code",
   "execution_count": 41,
   "metadata": {},
   "outputs": [
    {
     "data": {
      "text/plain": [
       "[[1], [1, 1], [1, 2, 1], [1, 3, 3, 1], [1, 4, 6, 4, 1], [1, 5, 10, 10, 5, 1]]"
      ]
     },
     "execution_count": 41,
     "metadata": {},
     "output_type": "execute_result"
    }
   ],
   "source": [
    "def pascal(n):\n",
    " triangle= [[1]]\n",
    " for k in range(1,n+1):\n",
    "    ligne_k = [1]\n",
    "    for i in range(1, k):\n",
    "        ligne_k.append(triangle[k-1][i-1] + triangle[k-1][i])\n",
    "    ligne_k.append(1)\n",
    "    triangle.append(ligne_k)\n",
    " return triangle\n",
    "pascal(5)"
   ]
  },
  {
   "attachments": {},
   "cell_type": "markdown",
   "metadata": {},
   "source": [
    "SUJET 18"
   ]
  },
  {
   "cell_type": "code",
   "execution_count": 42,
   "metadata": {},
   "outputs": [
    {
     "data": {
      "text/plain": [
       "(9, 3)"
      ]
     },
     "execution_count": 42,
     "metadata": {},
     "output_type": "execute_result"
    }
   ],
   "source": [
    "def max_et_indice(tab):\n",
    "    maxi = tab[0]\n",
    "    ind = 0\n",
    "    for i in range(len(tab)):\n",
    "        if tab[i]>maxi:\n",
    "            maxi = tab[i]\n",
    "            ind = i\n",
    "    return maxi,ind\n",
    "max_et_indice([1, 5, 6, 9, 1, 2, 3, 7, 9, 8])"
   ]
  },
  {
   "cell_type": "code",
   "execution_count": 74,
   "metadata": {},
   "outputs": [
    {
     "data": {
      "text/plain": [
       "True"
      ]
     },
     "execution_count": 74,
     "metadata": {},
     "output_type": "execute_result"
    }
   ],
   "source": [
    "def est_un_ordre(tab):\n",
    " '''\n",
    " Renvoie True si tab est de longueur n et contient tous les\n",
    "entiers de 1 à n, False sinon\n",
    " '''\n",
    " for i in range(1,len(tab)):\n",
    "    if i not in tab:\n",
    "        return False\n",
    " return True\n",
    "def nombre_points_rupture(ordre):\n",
    " '''\n",
    " Renvoie le nombre de point de rupture de ordre qui représente\n",
    "un ordre de gènes de chromosome\n",
    " '''\n",
    " assert est_un_ordre(ordre)==True,(\"attention,l'ordre n'est pas un ordre\") # ordre n'est pas un ordre de gènes\n",
    " n = len(ordre)\n",
    " nb = 0\n",
    " if ordre[0] != 1: # le premier n'est pas 1\n",
    "    nb = nb + 1\n",
    " i = 0\n",
    " while i < n-1:\n",
    "    if ordre[i]-ordre[i+1] not in [-1, 1]: # l'écart n'est pas 1\n",
    "        nb = nb + 1\n",
    "    i = i + 1\n",
    " if ordre[-1] != n: # le dernier n'est pas n\n",
    "    nb = nb + 1\n",
    " return nb\n",
    "\n",
    "est_un_ordre([1, 6, 2, 8, 3, 7])\n",
    "est_un_ordre([5, 4, 3, 6, 7, 2, 1, 8, 9])\n",
    "nombre_points_rupture([1, 6, 2, 8, 3, 7, 4, 5])\n",
    "nombre_points_rupture([5, 4, 3, 6, 7, 2, 1, 8, 9])\n",
    "est_un_ordre([1, 2, 3, 4,5])\n"
   ]
  },
  {
   "attachments": {},
   "cell_type": "markdown",
   "metadata": {},
   "source": [
    "Sujet 19"
   ]
  },
  {
   "cell_type": "code",
   "execution_count": 77,
   "metadata": {},
   "outputs": [
    {
     "data": {
      "text/plain": [
       "3"
      ]
     },
     "execution_count": 77,
     "metadata": {},
     "output_type": "execute_result"
    }
   ],
   "source": [
    "def recherche(tab,n):\n",
    "    trouve = -1\n",
    "    debut=0\n",
    "    fin=len(tab)\n",
    "    while trouve==-1 and debut<fin:\n",
    "        mid = (debut+fin)//2\n",
    "        if tab[mid]>n:\n",
    "            fin-=1\n",
    "        elif tab[mid]<n:\n",
    "            debut+=1\n",
    "        else:\n",
    "            trouve=mid\n",
    "    return trouve\n",
    "recherche([2, 3, 4, 5, 6], 5)"
   ]
  },
  {
   "cell_type": "code",
   "execution_count": 83,
   "metadata": {},
   "outputs": [
    {
     "data": {
      "text/plain": [
       "'BONJOUR A TOUS. VIVE LA MATIERE NSI !'"
      ]
     },
     "execution_count": 83,
     "metadata": {},
     "output_type": "execute_result"
    }
   ],
   "source": [
    "ALPHABET = 'ABCDEFGHIJKLMNOPQRSTUVWXYZ'\n",
    "def position_alphabet(lettre):\n",
    " return ord(lettre) - ord('A')\n",
    "def cesar(message, decalage):\n",
    " resultat = ''\n",
    " for c in message:\n",
    "    if 'A' <= c and c <= 'Z':        \n",
    "        indice = ( position_alphabet(c) +decalage) % 26\n",
    "        \n",
    "        resultat = resultat + ALPHABET[indice]\n",
    "        \n",
    "    else:\n",
    "        resultat += c\n",
    " return resultat\n",
    "cesar('GTSOTZW F YTZX. ANAJ QF RFYNJWJ SXN !', -5)\n"
   ]
  },
  {
   "attachments": {},
   "cell_type": "markdown",
   "metadata": {},
   "source": [
    "Sujet 20"
   ]
  },
  {
   "cell_type": "code",
   "execution_count": 87,
   "metadata": {},
   "outputs": [
    {
     "data": {
      "text/plain": [
       "{1: 5, 2: 7}"
      ]
     },
     "execution_count": 87,
     "metadata": {},
     "output_type": "execute_result"
    }
   ],
   "source": [
    "def ajoute_dictionnaires(d1,d2):\n",
    "    d = {}\n",
    "    for key,value in d1.items():\n",
    "        d[key]=value\n",
    "    for key,value in d2.items():\n",
    "        try:\n",
    "            d[key]+=value\n",
    "        except:\n",
    "            d[key]=value\n",
    "    return d\n",
    "ajoute_dictionnaires({1: 5, 2: 7}, {2: 9, 3: 11})\n",
    "ajoute_dictionnaires({}, {2: 9, 3: 11})\n",
    "ajoute_dictionnaires({1: 5, 2: 7}, {})\n",
    "\n"
   ]
  },
  {
   "cell_type": "code",
   "execution_count": null,
   "metadata": {},
   "outputs": [],
   "source": [
    "from random import randint\n",
    "def nbre_coups():\n",
    " n = 0\n",
    " cases_vues = [0]\n",
    " case_en_cours = 0\n",
    " nbre_cases = 12\n",
    " while len(cases_vues) < nbre_cases:\n",
    "    x = randint(1, 6)  \n",
    "    case_en_cours = (case_en_cours + x) % 12\n",
    "    if case_en_cours not in cases_vues:\n",
    "        cases_vues.append(case_en_cours)\n",
    "    n = n+1\n",
    "    print(x)\n",
    "    print(cases_vues)\n",
    " return n\n",
    "nbre_coups()\n"
   ]
  },
  {
   "attachments": {},
   "cell_type": "markdown",
   "metadata": {},
   "source": [
    "Sujet 21"
   ]
  },
  {
   "cell_type": "code",
   "execution_count": 96,
   "metadata": {},
   "outputs": [
    {
     "data": {
      "text/plain": [
       "[42]"
      ]
     },
     "execution_count": 96,
     "metadata": {},
     "output_type": "execute_result"
    }
   ],
   "source": [
    "def delta(liste):\n",
    "    resultat = [liste[0]]\n",
    "    for i in range(1,len(liste)):\n",
    "        precedent = liste[i]-liste[i-1]\n",
    "        resultat.append(precedent)\n",
    "    return resultat\n",
    "delta([1000, 800, 802, 1000, 1003])\n",
    "delta([42])\n"
   ]
  },
  {
   "cell_type": "code",
   "execution_count": 2,
   "metadata": {},
   "outputs": [
    {
     "data": {
      "text/plain": [
       "'((3*(8+7))-(2+1))'"
      ]
     },
     "execution_count": 2,
     "metadata": {},
     "output_type": "execute_result"
    }
   ],
   "source": [
    "class Noeud:\n",
    " '''\n",
    " classe implémentant un noeud d'arbre binaire\n",
    " '''\n",
    " def __init__(self, g, v, d):\n",
    "    '''\n",
    "    un objet Noeud possède 3 attributs :\n",
    "    - gauche : le sous-arbre gauche,\n",
    "    - valeur : la valeur de l'étiquette,\n",
    "    - droit : le sous-arbre droit.\n",
    "    '''\n",
    "    self.gauche = g\n",
    "    self.valeur = v\n",
    "    self.droit = d\n",
    "\n",
    " def __str__(self):\n",
    "    '''\n",
    "    renvoie la représentation du noeud en chaine de\n",
    "    caractères\n",
    "    '''\n",
    "    return str(self.valeur)\n",
    "\n",
    " def est_une_feuille(self):\n",
    "    '''\n",
    "    renvoie True si et seulement si le noeud est une feuille\n",
    "    '''\n",
    "    return self.gauche is None and self.droit is None\n",
    "def expression_infixe(e):\n",
    " s = \"\"\n",
    " if e.gauche is not None:\n",
    "    s = '(' + s + expression_infixe(e.gauche)\n",
    " s = s + str(e.valeur)\n",
    " if e.droit is not None:\n",
    "    s = s + expression_infixe(e.droit) + ')'\n",
    " return s\n",
    "\n",
    "e = Noeud(Noeud(Noeud(None, 3, None),\n",
    " '*', Noeud(Noeud(None, 8, None), '+', Noeud(None, 7, None))),\n",
    " '-', Noeud(Noeud(None, 2, None), '+', Noeud(None, 1, None)))\n",
    "expression_infixe(e)\n"
   ]
  },
  {
   "attachments": {},
   "cell_type": "markdown",
   "metadata": {},
   "source": [
    "Sujet 22"
   ]
  },
  {
   "cell_type": "code",
   "execution_count": 12,
   "metadata": {},
   "outputs": [
    {
     "data": {
      "text/plain": [
       "[]"
      ]
     },
     "execution_count": 12,
     "metadata": {},
     "output_type": "execute_result"
    }
   ],
   "source": [
    "def liste_puissances(a,n):\n",
    "    liste = []\n",
    "    for i in range(n):\n",
    "        temp = a\n",
    "        for j in range(i):\n",
    "            temp = temp*a\n",
    "        liste.append(temp)\n",
    "    return liste\n",
    "liste_puissances(3, 5)\n",
    "liste_puissances(-2, 4)\n",
    "\n",
    "def liste_puissances_borne(a,borne):\n",
    "    liste = []\n",
    "    for i in range(borne):\n",
    "        temp = a\n",
    "        for j in range(i):\n",
    "            temp = temp*a\n",
    "        if temp<borne:\n",
    "            liste.append(temp)\n",
    "        else:\n",
    "            return liste\n",
    "    return liste\n",
    "liste_puissances_borne(2, 16)\n",
    "liste_puissances_borne(2, 17)\n",
    "liste_puissances_borne(5, 5)\n",
    "\n"
   ]
  },
  {
   "cell_type": "code",
   "execution_count": 14,
   "metadata": {},
   "outputs": [
    {
     "data": {
      "text/plain": [
       "(37, 1121914, True)"
      ]
     },
     "execution_count": 14,
     "metadata": {},
     "output_type": "execute_result"
    }
   ],
   "source": [
    "dico = {\"A\": 1, \"B\": 2, \"C\": 3, \"D\": 4, \"E\": 5, \"F\": 6,\n",
    " \"G\": 7, \"H\": 8, \"I\": 9, \"J\": 10, \"K\": 11, \"L\": 12,\n",
    " \"M\": 13, \"N\": 14, \"O\": 15, \"P\": 16, \"Q\": 17,\n",
    " \"R\": 18, \"S\": 19, \"T\": 20, \"U\": 21, \"V\": 22,\n",
    " \"W\": 23, \"X\": 24, \"Y\": 25, \"Z\": 26}\n",
    "def est_parfait(mot) :\n",
    " # mot est une chaîne de caractères (en lettres majuscules)\n",
    " code_concatene = \"\"\n",
    " code_additionne = 0\n",
    " for c in mot:\n",
    "    code_concatene = code_concatene + str(dico[c])\n",
    "    code_additionne = code_additionne + dico[c]\n",
    " code_concatene = int(code_concatene)\n",
    " if code_concatene%code_additionne==0 :\n",
    "    mot_est_parfait = True\n",
    " else :\n",
    "    mot_est_parfait = False\n",
    " return code_additionne, code_concatene, mot_est_parfait\n",
    "est_parfait(\"PAUL\")\n",
    "est_parfait(\"ALAIN\")\n"
   ]
  },
  {
   "attachments": {},
   "cell_type": "markdown",
   "metadata": {},
   "source": [
    "Sujet 23"
   ]
  },
  {
   "cell_type": "code",
   "execution_count": 18,
   "metadata": {},
   "outputs": [
    {
     "data": {
      "text/plain": [
       "[{'nom': 'Medor', 'espece': 'chien', 'age': 5, 'enclos': 2}]"
      ]
     },
     "execution_count": 18,
     "metadata": {},
     "output_type": "execute_result"
    }
   ],
   "source": [
    "animaux = [ {'nom':'Medor', 'espece':'chien', 'age':5, 'enclos':2},\n",
    " {'nom':'Titine', 'espece':'chat', 'age':2, 'enclos':5},\n",
    " {'nom':'Tom', 'espece':'chat', 'age':7, 'enclos':4},\n",
    " {'nom':'Belle', 'espece':'chien', 'age':6, 'enclos':3},\n",
    " {'nom':'Mirza', 'espece':'chat', 'age':6, 'enclos':5}]\n",
    "def selection_enclos(table_animaux,num_enclos):\n",
    "    table_enclos = []\n",
    "    for dico in table_animaux:\n",
    "        if dico[\"enclos\"] == num_enclos:\n",
    "            table_enclos.append(dico)\n",
    "    return table_enclos\n",
    "selection_enclos(animaux, 5)\n",
    "selection_enclos(animaux, 2)\n"
   ]
  },
  {
   "cell_type": "code",
   "execution_count": 31,
   "metadata": {},
   "outputs": [
    {
     "data": {
      "text/plain": [
       "3"
      ]
     },
     "execution_count": 31,
     "metadata": {},
     "output_type": "execute_result"
    }
   ],
   "source": [
    "def trouver_intrus(tab, g, d):\n",
    " '''Renvoie la valeur de l'intrus situé entre les indices g\n",
    "et d dans la liste tab où :\n",
    "tab vérifie les conditions de l'exercice,\n",
    " g et d sont des multiples de 3.'''\n",
    "\n",
    " if g == d:    \n",
    "    return tab[g]\n",
    " else:\n",
    "    nombre_de_triplets = (d - g) // 3    \n",
    "    indice = g + 3 * (nombre_de_triplets // 2)    \n",
    "    if  tab[indice]==tab[indice+1]:\n",
    "        \n",
    "        return trouver_intrus(tab,indice+3,d)\n",
    "    else:\n",
    "        return trouver_intrus(tab,g,indice)\n",
    "trouver_intrus([3, 3, 3, 9, 9, 9, 1, 1, 1, 7, 2, 2, 2, 4,4, 4, 8, 8, 8, 5, 5, 5], 0, 21)\n",
    "trouver_intrus([8, 5, 5, 5, 9, 9, 9, 18, 18, 18, 3, 3, 3],0, 12)\n",
    "trouver_intrus([5, 5, 5, 1, 1, 1, 0, 0, 0, 6, 6, 6, 3, 8,8, 8], 0, 15)"
   ]
  },
  {
   "attachments": {},
   "cell_type": "markdown",
   "metadata": {},
   "source": [
    "Sujet 24"
   ]
  },
  {
   "cell_type": "code",
   "execution_count": 34,
   "metadata": {},
   "outputs": [
    {
     "name": "stdout",
     "output_type": "stream",
     "text": [
      "True\n"
     ]
    }
   ],
   "source": [
    "def nbr_occurrences(chaine):\n",
    "    dico = {}\n",
    "    for caractere in chaine:\n",
    "        if caractere not in dico:\n",
    "            dico[caractere] = 1\n",
    "        else:\n",
    "            dico[caractere]+=1\n",
    "    return dico\n",
    "print(nbr_occurrences('Hello world !')=={'H': 1, 'e': 1, 'l': 3, 'o': 2, ' ': 2, 'w': 1,'r': 1, 'd': 1, '!': 1}\n",
    ")"
   ]
  },
  {
   "cell_type": "code",
   "execution_count": 41,
   "metadata": {},
   "outputs": [
    {
     "data": {
      "text/plain": [
       "[0, 1, 6, 7, 8, 9, 10]"
      ]
     },
     "execution_count": 41,
     "metadata": {},
     "output_type": "execute_result"
    }
   ],
   "source": [
    "def fusion(lst1, lst2):\n",
    " n1 = len(lst1)\n",
    " n2 = len(lst2)\n",
    " lst12 = [0] * (n1 + n2)\n",
    " i1 = 0\n",
    " i2 = 0\n",
    " i = 0\n",
    " while i1 < n1 and i2<n2 :\n",
    "    if lst1[i1] < lst2[i2]:\n",
    "        lst12[i] = lst1[i1]\n",
    "        i1 = i1+1\n",
    "    else:\n",
    "        lst12[i] = lst2[i2]\n",
    "        i2 = i2+1\n",
    "    i += 1\n",
    " while i1 < n1:\n",
    "    lst12[i] = lst1[i1]\n",
    "    i1 = i1 + 1\n",
    "    i = i+1\n",
    " while i2 < n2:\n",
    "    lst12[i] = lst2[i2]\n",
    "    i2 = i2 + 1\n",
    "    i = i+1\n",
    " return lst12\n",
    "fusion([1, 6, 10], [0, 7, 8, 9])\n"
   ]
  },
  {
   "attachments": {},
   "cell_type": "markdown",
   "metadata": {},
   "source": [
    "Sujet 25"
   ]
  },
  {
   "cell_type": "code",
   "execution_count": 42,
   "metadata": {},
   "outputs": [
    {
     "data": {
      "text/plain": [
       "{1: [0, 1, 5], 2: [2, 4], 3: [3]}"
      ]
     },
     "execution_count": 42,
     "metadata": {},
     "output_type": "execute_result"
    }
   ],
   "source": [
    "def enumere(L):\n",
    "    dico = {}\n",
    "    for i in range(len(L)):\n",
    "        if L[i] not in dico:\n",
    "            dico[L[i]] = [i]\n",
    "        else:\n",
    "            dico[L[i]].append(i)\n",
    "    return dico\n",
    "enumere([1, 1, 2, 3, 2, 1])\n"
   ]
  },
  {
   "cell_type": "code",
   "execution_count": 46,
   "metadata": {},
   "outputs": [
    {
     "name": "stdout",
     "output_type": "stream",
     "text": [
      "[1, 2, 3, 4, 5, 6, 7, 8]\n"
     ]
    }
   ],
   "source": [
    "class Arbre:\n",
    " def __init__(self, etiquette):\n",
    "    self.v = etiquette\n",
    "    self.fg = None\n",
    "    self.fd = None\n",
    "def parcours(arbre, liste):\n",
    " if arbre != None:\n",
    "    parcours(arbre.fg, liste)\n",
    "    liste.append(arbre.v)\n",
    "    parcours(arbre.fd, liste)\n",
    " return liste\n",
    "\n",
    "def insere(arbre, cle):\n",
    " \"\"\" arbre est une instance de la classe Arbre qui implémente\n",
    " un arbre binaire de recherche.\n",
    " \"\"\"\n",
    " if cle<arbre.v:\n",
    "    if arbre.fg!=None:\n",
    "        insere(arbre.fg, cle)\n",
    "    else:\n",
    "        arbre.fg = Arbre(cle)\n",
    " else:\n",
    "    if arbre.fd!=None:\n",
    "        insere(arbre.fd, cle)\n",
    "    else:\n",
    "        arbre.fd = Arbre(cle)\n",
    "\n",
    "\n",
    "arbre = Arbre(5)\n",
    "arbre.fg = Arbre(2)\n",
    "arbre.fg.fd = Arbre(3)\n",
    "arbre.fd = Arbre(7)\n",
    "insere(arbre, 1)\n",
    "insere(arbre, 4)\n",
    "insere(arbre, 6)\n",
    "insere(arbre, 8)\n",
    "print(parcours(arbre,[]))"
   ]
  },
  {
   "attachments": {},
   "cell_type": "markdown",
   "metadata": {},
   "source": [
    "Sujet 26"
   ]
  },
  {
   "cell_type": "code",
   "execution_count": 57,
   "metadata": {},
   "outputs": [
    {
     "data": {
      "text/plain": [
       "0"
      ]
     },
     "execution_count": 57,
     "metadata": {},
     "output_type": "execute_result"
    }
   ],
   "source": [
    "def multiplication(n1,n2):\n",
    "    produit=0\n",
    "    if n1>0:\n",
    "        for i in range(n1):\n",
    "            produit+=n2\n",
    "    else:\n",
    "        for i in range(-n1):\n",
    "            produit-=n2\n",
    "    return produit\n",
    "multiplication(0, -9)\n",
    "\n",
    "\n"
   ]
  },
  {
   "cell_type": "code",
   "execution_count": 61,
   "metadata": {},
   "outputs": [
    {
     "data": {
      "text/plain": [
       "True"
      ]
     },
     "execution_count": 61,
     "metadata": {},
     "output_type": "execute_result"
    }
   ],
   "source": [
    "def dichotomie(tab, x):\n",
    " \"\"\"\n",
    " tab : tableau d’entiers trié dans l’ordre croissant\n",
    " x : nombre entier\n",
    " La fonction renvoie True si tab contient x et False sinon\n",
    " \"\"\"\n",
    " debut = 0\n",
    " fin = len(tab) - 1\n",
    " while debut <= fin:\n",
    "    m = (debut+fin)//2\n",
    "    if x == tab[m]:\n",
    "        return True\n",
    "    if x > tab[m]:\n",
    "        debut = m + 1\n",
    "    else:\n",
    "        fin = m-1\n",
    " return False\n",
    "dichotomie([1,2,3],1)"
   ]
  },
  {
   "attachments": {},
   "cell_type": "markdown",
   "metadata": {},
   "source": [
    "Sujet 27"
   ]
  },
  {
   "cell_type": "code",
   "execution_count": 65,
   "metadata": {},
   "outputs": [
    {
     "data": {
      "text/plain": [
       "2"
      ]
     },
     "execution_count": 65,
     "metadata": {},
     "output_type": "execute_result"
    }
   ],
   "source": [
    "def recherche_min(tab):\n",
    "    mini = tab[0]\n",
    "    ind = 0\n",
    "    for i in range(len(tab)) :\n",
    "        if tab[i]<mini:\n",
    "            mini = tab[i]\n",
    "            ind = i\n",
    "    return ind\n",
    "recherche_min([5, 3, 2, 2, 4])\n",
    "\n"
   ]
  },
  {
   "cell_type": "code",
   "execution_count": 68,
   "metadata": {},
   "outputs": [
    {
     "name": "stdout",
     "output_type": "stream",
     "text": [
      "True\n",
      "True\n"
     ]
    }
   ],
   "source": [
    "def separe(tab):\n",
    " gauche = 0\n",
    " droite = len(tab)-1\n",
    " while gauche < droite:\n",
    "    if tab[gauche] == 0:\n",
    "        gauche = gauche+1\n",
    "    else:\n",
    "        tab[gauche], tab[droite] = tab[droite],tab[gauche]\n",
    "        droite = droite-1\n",
    " return tab\n",
    "print(separe([1, 0, 1, 0, 1, 0, 1, 0]) == [0, 0, 0, 0, 1, 1, 1, 1])\n",
    "print(separe([1, 0, 0, 0, 1, 1, 0, 1, 1, 0, 1, 0, 1, 1, 1, 0]) == [0, 0, 0, 0, 0, 0, 0, 1, 1, 1, 1, 1, 1, 1, 1, 1])"
   ]
  },
  {
   "attachments": {},
   "cell_type": "markdown",
   "metadata": {},
   "source": [
    "Sujet 28"
   ]
  },
  {
   "cell_type": "code",
   "execution_count": 71,
   "metadata": {},
   "outputs": [],
   "source": [
    "def moyenne(tab):\n",
    "    denominateur = len(tab)\n",
    "    numerateur = 0\n",
    "    for elem in tab:\n",
    "        numerateur+=elem\n",
    "    return numerateur/denominateur\n",
    "assert moyenne([1]) == 1\n",
    "assert moyenne([1, 2, 3, 4, 5, 6, 7]) == 4\n",
    "assert moyenne([1, 2]) == 1.5\n"
   ]
  },
  {
   "cell_type": "code",
   "execution_count": 77,
   "metadata": {},
   "outputs": [
    {
     "data": {
      "text/plain": [
       "(False, 1)"
      ]
     },
     "execution_count": 77,
     "metadata": {},
     "output_type": "execute_result"
    }
   ],
   "source": [
    "def dichotomie(tab, x):\n",
    " \"\"\"\n",
    " tab : tableau trié dans l’ordre croissant\n",
    " x : nombre entier\n",
    " La fonction renvoie True si tab contient x et False sinon\n",
    " \"\"\"\n",
    " # cas du tableau vide\n",
    " if len(tab)==0:\n",
    "    return False, 1\n",
    " # cas où x n'est pas compris entre les valeurs extrêmes\n",
    " if (x < tab[0]) or x>tab[-1]:\n",
    "    return False, 2\n",
    "\n",
    " debut = 0\n",
    " fin = len(tab) - 1\n",
    " while debut <= fin:\n",
    "    m = (debut+fin)//2\n",
    "    if x == tab[m]:\n",
    "        return True\n",
    "    if x > tab[m]:\n",
    "        debut = m + 1\n",
    "    else:\n",
    "        fin = m-1\n",
    " return False,3\n",
    "dichotomie([15, 16, 18, 19, 23, 24, 28, 29, 31, 33], 28)\n",
    "dichotomie([15, 16, 18, 19, 23, 24, 28, 29, 31, 33], 27)\n",
    "dichotomie([15, 16, 18, 19, 23, 24, 28, 29, 31, 33], 1)\n",
    "dichotomie([], 28)\n",
    "\n"
   ]
  },
  {
   "attachments": {},
   "cell_type": "markdown",
   "metadata": {},
   "source": [
    "SUjet 29"
   ]
  },
  {
   "cell_type": "code",
   "execution_count": 81,
   "metadata": {},
   "outputs": [
    {
     "name": "stdout",
     "output_type": "stream",
     "text": [
      "4\n",
      "7\n"
     ]
    }
   ],
   "source": [
    "class Arbre:\n",
    " def __init__(self, etiquette):\n",
    "    self.v = etiquette\n",
    "    self.fg = None\n",
    "    self.fd = None\n",
    "a=Arbre(0)\n",
    "a.fg=Arbre(1)\n",
    "a.fg.fg = Arbre(3)\n",
    "a.fd=Arbre(2)\n",
    "a.fd.fg = Arbre(4)\n",
    "a.fd.fg.fd = Arbre(6)\n",
    "a.fd.fd=Arbre(5)\n",
    "def taille(a):\n",
    "  if a==None:\n",
    "    return 0\n",
    "  else:\n",
    "    return 1+taille(a.fg)+taille(a.fd)\n",
    "def hauteur(a):\n",
    "  if a==None:\n",
    "    return 0\n",
    "  else:\n",
    "    return 1 + max(hauteur(a.fg),hauteur(a.fd))\n",
    "print(hauteur(a))\n",
    "print(taille(a))"
   ]
  },
  {
   "cell_type": "code",
   "execution_count": 91,
   "metadata": {},
   "outputs": [
    {
     "name": "stdout",
     "output_type": "stream",
     "text": [
      "[7, 4, 8, 9]\n",
      "[7, 8, 9, 4]\n",
      "[7, 8, 9, 4]\n"
     ]
    }
   ],
   "source": [
    "def ajoute(indice, element, liste):\n",
    " nbre_elts = len(liste)\n",
    " L = [0 for i in range(nbre_elts + 1)]\n",
    " if indice<nbre_elts:\n",
    "    for i in range(indice):\n",
    "        L[i] = liste[i]\n",
    "    L[indice] = element\n",
    "    for i in range(indice + 1, nbre_elts + 1):\n",
    "        L[i] = liste[i-1]\n",
    " else:\n",
    "    for i in range(nbre_elts):\n",
    "        L[i] = liste[i]\n",
    "    \n",
    "    L[-1] = element\n",
    " return L\n",
    "print(ajoute(1, 4, [7, 8, 9]))\n",
    "print(ajoute(3, 4, [7, 8, 9]))\n",
    "print(ajoute(4, 4, [7, 8, 9]))\n",
    "\n"
   ]
  },
  {
   "attachments": {},
   "cell_type": "markdown",
   "metadata": {},
   "source": [
    "Sujet 30"
   ]
  },
  {
   "cell_type": "code",
   "execution_count": 93,
   "metadata": {},
   "outputs": [
    {
     "data": {
      "text/plain": [
       "1.0"
      ]
     },
     "execution_count": 93,
     "metadata": {},
     "output_type": "execute_result"
    }
   ],
   "source": [
    "def moyenne(tab):\n",
    "    numerateur = 0\n",
    "    denominateur = len(tab)\n",
    "    for nbr in tab:\n",
    "        numerateur+=nbr\n",
    "    return numerateur/denominateur\n",
    "moyenne([1.0, 2.0, 4.0])\n",
    "moyenne([1.0])"
   ]
  },
  {
   "cell_type": "code",
   "execution_count": 98,
   "metadata": {},
   "outputs": [
    {
     "name": "stdout",
     "output_type": "stream",
     "text": [
      "True\n",
      "True\n"
     ]
    },
    {
     "data": {
      "text/plain": [
       "'0'"
      ]
     },
     "execution_count": 98,
     "metadata": {},
     "output_type": "execute_result"
    }
   ],
   "source": [
    "def binaire(a):\n",
    " bin_a = str(a%2)\n",
    " a = a // 2\n",
    " while a >0 :\n",
    "    bin_a = str(a%2) + bin_a\n",
    "    a = a//2\n",
    " return bin_a\n",
    "print(binaire(83) == '1010011')\n",
    "print(binaire(127)=='1111111')\n",
    "binaire(0)"
   ]
  },
  {
   "attachments": {},
   "cell_type": "markdown",
   "metadata": {},
   "source": [
    "Sujet 31"
   ]
  },
  {
   "cell_type": "code",
   "execution_count": 101,
   "metadata": {},
   "outputs": [
    {
     "data": {
      "text/plain": [
       "0"
      ]
     },
     "execution_count": 101,
     "metadata": {},
     "output_type": "execute_result"
    }
   ],
   "source": [
    "def nb_repetitions(elt,tab):\n",
    "    nb = 0\n",
    "    for elem in tab:\n",
    "        if elem==elt:\n",
    "            nb+=1\n",
    "    return nb\n",
    "nb_repetitions(5, [2, 5, 3, 5, 6, 9, 5])\n",
    "nb_repetitions('A', [ 'B', 'A', 'B', 'A', 'R'])\n",
    "nb_repetitions(12, [1, '! ', 7, 21, 36, 44])\n"
   ]
  },
  {
   "cell_type": "code",
   "execution_count": 102,
   "metadata": {},
   "outputs": [
    {
     "name": "stdout",
     "output_type": "stream",
     "text": [
      "True\n",
      "True\n"
     ]
    },
    {
     "data": {
      "text/plain": [
       "'0'"
      ]
     },
     "execution_count": 102,
     "metadata": {},
     "output_type": "execute_result"
    }
   ],
   "source": [
    "def binaire(a):\n",
    " bin_a = str(a%2)\n",
    " a = a // 2\n",
    " while a >0 :\n",
    "    bin_a = str(a%2) + bin_a\n",
    "    a = a//2\n",
    " return bin_a\n",
    "print(binaire(83) == '1010011')\n",
    "print(binaire(127)=='1111111')\n",
    "binaire(0)"
   ]
  },
  {
   "attachments": {},
   "cell_type": "markdown",
   "metadata": {},
   "source": [
    "Sujet 32"
   ]
  },
  {
   "cell_type": "code",
   "execution_count": 108,
   "metadata": {},
   "outputs": [
    {
     "data": {
      "text/plain": [
       "{'min': -1, 'max': -1}"
      ]
     },
     "execution_count": 108,
     "metadata": {},
     "output_type": "execute_result"
    }
   ],
   "source": [
    "def min_et_max(tab):\n",
    "    min = tab[0]\n",
    "    max = tab[0]\n",
    "    for elem in tab:\n",
    "        if elem>max:\n",
    "            max = elem\n",
    "        if elem<min:\n",
    "            min = elem\n",
    "    dico = {\"min\":min,\"max\":max}\n",
    "    return dico\n",
    "min_et_max([0, 1, 4, 2, -2, 9, 3, 1, 7, 1])\n",
    "min_et_max([0, 1, 2, 3])\n",
    "min_et_max([3])\n",
    "min_et_max([1, 3, 2, 1, 3])\n",
    "min_et_max([-1, -1, -1, -1, -1])"
   ]
  },
  {
   "cell_type": "code",
   "execution_count": 116,
   "metadata": {},
   "outputs": [
    {
     "name": "stdout",
     "output_type": "stream",
     "text": [
      "8 de coeur\n",
      "As de pique\n"
     ]
    }
   ],
   "source": [
    "class Carte:\n",
    " def __init__(self, c, v):\n",
    "    \"\"\" Initialise les attributs couleur (entre 1 et 4), et\n",
    "    valeur (entre 1 et 13). \"\"\"\n",
    "    self.couleur = c\n",
    "    self.valeur = v\n",
    " def get_valeur(self):\n",
    "    \"\"\" Renvoie la valeur de la carte : As, 2, ..., 10,\n",
    "    Valet, Dame, Roi \"\"\"\n",
    "    valeurs = ['As','2', '3', '4', '5', '6', '7', '8', '9',\n",
    "    '10', 'Valet', 'Dame', 'Roi']\n",
    "    return valeurs[self.valeur - 1]\n",
    " def get_couleur(self):\n",
    "    \"\"\" Renvoie la couleur de la carte (parmi pique, coeur,\n",
    "    carreau, trèfle). \"\"\"\n",
    "    couleurs = ['pique', 'coeur', 'carreau', 'trèfle']\n",
    "    return couleurs[self.couleur - 1]\n",
    "class Paquet_de_cartes:\n",
    " def __init__(self):\n",
    "    \"\"\" Initialise l'attribut contenu avec une liste des 52\n",
    "    objets Carte possibles rangés par valeurs croissantes en\n",
    "    commençant par pique, puis coeur, carreau et trèfle. \"\"\"\n",
    "    self.paquet = []\n",
    "    for c in range(1,5):\n",
    "      for v in range(1,14):\n",
    "        self.paquet.append(Carte(c,v))\n",
    "\n",
    " def get_carte(self, pos):\n",
    "    \"\"\" Renvoie la carte qui se trouve à la position pos\n",
    "    (entier compris entre 0 et 51). \"\"\"\n",
    "    assert (pos>=0) == True and (pos<=51) == True,(\"paramètre pos invalide \")\n",
    "    return self.paquet[pos]\n",
    " \n",
    "jeu = Paquet_de_cartes()\n",
    "carte1 = jeu.get_carte(20)\n",
    "print(carte1.get_valeur() + \" de \" + carte1.get_couleur())\n",
    "carte2 = jeu.get_carte(0)\n",
    "print(carte2.get_valeur() + \" de \" + carte2.get_couleur())\n",
    "#carte3 = jeu.get_carte(52)"
   ]
  },
  {
   "attachments": {},
   "cell_type": "markdown",
   "metadata": {},
   "source": [
    "Sujet 33"
   ]
  },
  {
   "cell_type": "code",
   "execution_count": 125,
   "metadata": {},
   "outputs": [
    {
     "data": {
      "text/plain": [
       "9"
      ]
     },
     "execution_count": 125,
     "metadata": {},
     "output_type": "execute_result"
    }
   ],
   "source": [
    "a = {'F':['B','G'], 'B':['A','D'], 'A':['',''], 'D':['C','E'], \\\n",
    " 'C':['',''], 'E':['',''], 'G':['','I'], 'I':['','H'], \\\n",
    " 'H':['','']}\n",
    "def taille(arbre,lettre):    \n",
    "    if lettre == \"\":\n",
    "        return 0\n",
    "    else:\n",
    "        return 1 + taille(arbre,arbre[lettre][0])+taille(arbre,arbre[lettre][1])\n",
    "taille(a, 'F')\n"
   ]
  },
  {
   "cell_type": "code",
   "execution_count": 132,
   "metadata": {},
   "outputs": [
    {
     "data": {
      "text/plain": [
       "[6, 12, 18, 21, 25, 41, 55]"
      ]
     },
     "execution_count": 132,
     "metadata": {},
     "output_type": "execute_result"
    }
   ],
   "source": [
    "def tri_selection(tab):\n",
    " N = len(tab)\n",
    " for k in range(N):\n",
    "    imin = k\n",
    "    for i in range(k+1 , N):\n",
    "        if tab[i] < tab[imin] :            \n",
    "            imin = i\n",
    "    tab[k] , tab[imin] = tab[imin] , tab[k]\n",
    "liste = [41, 55, 21, 18, 12, 6, 25]\n",
    "tri_selection(liste)\n",
    "liste"
   ]
  },
  {
   "attachments": {},
   "cell_type": "markdown",
   "metadata": {},
   "source": [
    "Sujet 34"
   ]
  },
  {
   "cell_type": "code",
   "execution_count": 135,
   "metadata": {},
   "outputs": [
    {
     "data": {
      "text/plain": [
       "5.333333333333333"
      ]
     },
     "execution_count": 135,
     "metadata": {},
     "output_type": "execute_result"
    }
   ],
   "source": [
    "def moyenne(tab):\n",
    "    if len(tab)==0:\n",
    "        print(\"Votre tableau est vide, veuillez le remplir !\")\n",
    "    else:\n",
    "        numerateur = 0\n",
    "        denominateur = len(tab)\n",
    "        for elem in tab:\n",
    "            numerateur+=elem\n",
    "        return numerateur/denominateur\n",
    "moyenne([5, 3, 8])\n"
   ]
  },
  {
   "cell_type": "code",
   "execution_count": 137,
   "metadata": {},
   "outputs": [
    {
     "data": {
      "text/plain": [
       "[0, 0, 0, 0, 0, 1, 1, 1, 1]"
      ]
     },
     "execution_count": 137,
     "metadata": {},
     "output_type": "execute_result"
    }
   ],
   "source": [
    "def tri(tab):\n",
    " # i est le premier indice de la zone non triée,\n",
    " # j est le dernier indice de cette zone non triée.\n",
    " # Au début, la zone non triée est le tableau complet.\n",
    " i= 0\n",
    " j= len(tab)-1\n",
    " while i != j :\n",
    "    if tab[i] == 0:\n",
    "        i = i+1\n",
    "    else :\n",
    "        valeur = tab[j]\n",
    "        tab[j] = tab[i]\n",
    "        tab[i] = valeur\n",
    "        j = j-1\n",
    " return tab\n",
    "tri([0, 1, 0, 1, 0, 1, 0, 1, 0])\n"
   ]
  },
  {
   "attachments": {},
   "cell_type": "markdown",
   "metadata": {},
   "source": [
    "Sujet 35"
   ]
  },
  {
   "cell_type": "code",
   "execution_count": 139,
   "metadata": {},
   "outputs": [
    {
     "name": "stdout",
     "output_type": "stream",
     "text": [
      "True\n",
      "True\n"
     ]
    }
   ],
   "source": [
    "def ou_exclusif(a,b):\n",
    "    liste_xor = []\n",
    "    for i in range(len(a)):\n",
    "        if a[i]==b[i]:\n",
    "            liste_xor.append(0)\n",
    "        else:\n",
    "            liste_xor.append(1)\n",
    "    return liste_xor\n",
    "a = [1, 0, 1, 0, 1, 1, 0, 1]\n",
    "b = [0, 1, 1, 1, 0, 1, 0, 0]\n",
    "c = [1, 1, 0, 1]\n",
    "d = [0, 0, 1, 1]\n",
    "print(ou_exclusif(a, b)==[1, 1, 0, 1, 1, 0, 0, 1])\n",
    "print(ou_exclusif(c, d)==[1, 1, 1, 0])"
   ]
  },
  {
   "cell_type": "code",
   "execution_count": 149,
   "metadata": {},
   "outputs": [
    {
     "name": "stdout",
     "output_type": "stream",
     "text": [
      "[3, 4, 5]\n",
      "[4, 4, 4]\n",
      "[5, 4, 3]\n"
     ]
    },
    {
     "data": {
      "text/plain": [
       "True"
      ]
     },
     "execution_count": 149,
     "metadata": {},
     "output_type": "execute_result"
    }
   ],
   "source": [
    "class Carre:\n",
    " def __init__(self, liste, n):\n",
    "    self.ordre = n\n",
    "    self.tableau = [[liste[i + j * n] for i in range(n)] for j in range(n)]\n",
    "\n",
    " def affiche(self):\n",
    "    '''Affiche un carré'''\n",
    "    for i in range(self.ordre):\n",
    "        print(self.tableau[i])\n",
    "\n",
    " def somme_ligne(self, i):\n",
    "    '''Calcule la somme des valeurs de la ligne i'''\n",
    "    somme = 0\n",
    "    for j in range(self.ordre):\n",
    "        somme = somme + self.tableau[i][j]\n",
    "    return somme\n",
    "\n",
    " def somme_col(self, j):\n",
    "    '''Calcule la somme des valeurs de la colonne j'''\n",
    "    somme = 0\n",
    "    for i in range(self.ordre):\n",
    "        somme = somme + self.tableau[i][j]\n",
    "    return somme\n",
    " def est_semimagique(self):\n",
    "    s = self.somme_ligne(0)\n",
    "\n",
    "    #test de la somme de chaque ligne\n",
    "    for i in range(self.ordre):\n",
    "        if self.somme_ligne(i) != s:\n",
    "            return False\n",
    "\n",
    "    #test de la somme de chaque colonne\n",
    "    for j in range(self.ordre):\n",
    "        if self.somme_col(j) != s:\n",
    "            return False\n",
    "\n",
    "    return True\n",
    "liste = (3, 4, 5, 4, 4, 4, 5, 4, 3)\n",
    "\n",
    "c3 = Carre(liste, 3)\n",
    "c3.affiche()\n",
    "c3.est_semimagique()"
   ]
  },
  {
   "attachments": {},
   "cell_type": "markdown",
   "metadata": {},
   "source": [
    "Sujet 36"
   ]
  },
  {
   "cell_type": "code",
   "execution_count": 156,
   "metadata": {},
   "outputs": [
    {
     "data": {
      "text/plain": [
       "[(1, 2), (2, 3), (-5, -4)]"
      ]
     },
     "execution_count": 156,
     "metadata": {},
     "output_type": "execute_result"
    }
   ],
   "source": [
    "def couples_consecutifs(tab):\n",
    "    liste_consecutif = []\n",
    "    for i in range(len(tab)-1):\n",
    "        if tab[i+1]-tab[i]==1:\n",
    "            liste_consecutif.append((tab[i],tab[i+1]))\n",
    "    return liste_consecutif\n",
    "couples_consecutifs ([5, 1, 2, 3, 8, -5, -4, 7])\n",
    "\n"
   ]
  },
  {
   "cell_type": "code",
   "execution_count": 162,
   "metadata": {},
   "outputs": [
    {
     "name": "stdout",
     "output_type": "stream",
     "text": [
      "True\n"
     ]
    }
   ],
   "source": [
    "def propager(M, i, j, val):\n",
    " if M[i][j] == 1:\n",
    "    M[i][j] = val\n",
    " # l'élément en haut fait partie de la composante\n",
    " if i-1 >= 0 and M[i-1][j] == 1:\n",
    "    propager(M, i-1, j, val)\n",
    " # l'élément en bas fait partie de la composante\n",
    " if i+1 < len(M) and M[i+1][j] == 1:\n",
    "    propager(M, i+1, j, val)\n",
    " # l'élément à gauche fait partie de la composante\n",
    " if j-1>=0 and M[i][j-1] == 1:\n",
    "    propager(M, i, j-1, val)\n",
    " # l'élément à droite fait partie de la composante\n",
    " if j+1<len(M[0]) and M[i][j+1] == 1:\n",
    "    propager(M, i, j+1, val)\n",
    "\n",
    "M = [[0, 0, 1, 0], [0, 1, 0, 1], [1, 1, 1, 0], [0, 1, 1, 0]]\n",
    "propager(M, 2, 1, 3)\n",
    "print(M==[[0, 0, 1, 0], [0, 3, 0, 1], [3, 3, 3, 0], [0, 3, 3, 0]])"
   ]
  },
  {
   "attachments": {},
   "cell_type": "markdown",
   "metadata": {},
   "source": [
    "Sujet 37"
   ]
  },
  {
   "cell_type": "code",
   "execution_count": 167,
   "metadata": {},
   "outputs": [
    {
     "data": {
      "text/plain": [
       "5"
      ]
     },
     "execution_count": 167,
     "metadata": {},
     "output_type": "execute_result"
    }
   ],
   "source": [
    "def recherche(elt,tab):\n",
    "    \"\"\"\n",
    "    Prend un entier elt et une liste d'entiers tab,\n",
    "    renvoie le dernier indice de elt dans tab ou -1 si elt n'est pas dans tab\n",
    "    \"\"\"\n",
    "    ind = -1\n",
    "    for i in range(len(tab)):\n",
    "        if tab[i]==elt:\n",
    "            ind = i\n",
    "    return ind\n",
    "recherche(1, [2, 3, 4])\n",
    "recherche(1, [10, 12, 1, 56])\n",
    "recherche(1, [1, 0, 42, 7])\n",
    "recherche(1, [1, 50, 1])\n",
    "recherche(1, [8, 1, 10, 1, 7, 1, 8])\n"
   ]
  },
  {
   "cell_type": "code",
   "execution_count": 169,
   "metadata": {},
   "outputs": [
    {
     "name": "stdout",
     "output_type": "stream",
     "text": [
      "False\n",
      "True\n",
      "192.168.0.3\n"
     ]
    }
   ],
   "source": [
    "class AdresseIP:\n",
    " def __init__(self, adresse):\n",
    "    self.adresse = adresse\n",
    "\n",
    " def liste_octet(self):\n",
    "    \"\"\"renvoie une liste de nombres entiers,\n",
    "    la liste des octets de l'adresse IP\"\"\"\n",
    "    return [int(i) for i in self.adresse.split(\".\")]\n",
    "\n",
    " def est_reservee(self):\n",
    "    \"\"\"renvoie True si l'adresse IP est une adresse\n",
    "    réservée, False sinon\"\"\"\n",
    "    return self.adresse==\"192.168.0.0\" or self.adresse==\"192.168.0.255\"\n",
    "\n",
    " def adresse_suivante(self):\n",
    "    \"\"\"renvoie un objet de AdresseIP avec l'adresse\n",
    "    IP qui suit l'adresse self\n",
    "    si elle existe et False sinon\"\"\"\n",
    "    if self.liste_octet()[-1] < 254:\n",
    "        octet_nouveau =  self.liste_octet()[-1] + 1\n",
    "        return AdresseIP('192.168.0.' + str(octet_nouveau))\n",
    "    else:\n",
    "        return False\n",
    "adresse1 = AdresseIP('192.168.0.1')\n",
    "adresse2 = AdresseIP('192.168.0.2')\n",
    "adresse3 = AdresseIP('192.168.0.0')\n",
    "print(adresse1.est_reservee())\n",
    "print(adresse3.est_reservee())\n",
    "print(adresse2.adresse_suivante().adresse)"
   ]
  },
  {
   "attachments": {},
   "cell_type": "markdown",
   "metadata": {},
   "source": [
    "Sujet 38"
   ]
  },
  {
   "cell_type": "code",
   "execution_count": 177,
   "metadata": {},
   "outputs": [
    {
     "data": {
      "text/plain": [
       "True"
      ]
     },
     "execution_count": 177,
     "metadata": {},
     "output_type": "execute_result"
    }
   ],
   "source": [
    "def correspond(mot,mot_a_trous):\n",
    "    mot_sans_trou = \"\"\n",
    "    if len(mot)!=len(mot_a_trous):\n",
    "        return False\n",
    "    for i in range(len(mot_a_trous)):\n",
    "        if mot_a_trous[i] == \"*\":\n",
    "            mot_sans_trou += mot[i]\n",
    "        else:\n",
    "            mot_sans_trou+=mot_a_trous[i]\n",
    "    return mot == mot_sans_trou\n",
    "correspond('INFORMATIQUE', 'INFO*MA*IQUE')\n",
    "correspond('AUTOMATIQUE', 'INFO*MA*IQUE')\n",
    "correspond('STOP', 'S*')\n",
    "correspond('AUTO', '*UT*')"
   ]
  },
  {
   "cell_type": "code",
   "execution_count": 182,
   "metadata": {},
   "outputs": [
    {
     "data": {
      "text/plain": [
       "False"
      ]
     },
     "execution_count": 182,
     "metadata": {},
     "output_type": "execute_result"
    }
   ],
   "source": [
    "def est_cyclique(plan):\n",
    "    '''\n",
    "    Prend en paramètre un dictionnaire `plan` correspondant à un\n",
    "    plan d'envoi de messages (ici entre les personnes A, B, C, D,\n",
    "    E, F).\n",
    "    Renvoie True si le plan d'envoi de messages est cyclique et\n",
    "    False sinon.\n",
    "    '''\n",
    "    expediteur = 'A'\n",
    "    destinataire = plan[expediteur]\n",
    "    nb_destinaires = 1\n",
    "    while destinataire != expediteur:\n",
    "        destinataire = plan[destinataire]\n",
    "        nb_destinaires += 1\n",
    "    return nb_destinaires == len(plan)\n",
    "est_cyclique({'A':'E', 'F':'A', 'C':'D', 'E':'B', 'B':'F','D':'C'})\n",
    "est_cyclique({'A':'E', 'F':'C', 'C':'D', 'E':'B', 'B':'F','D':'A'})\n",
    "est_cyclique({'A':'B', 'F':'C', 'C':'D', 'E':'A', 'B':'F','D':'E'})\n",
    "est_cyclique({'A':'B', 'F':'A', 'C':'D', 'E':'C', 'B':'F','D':'E'})\n",
    "\n"
   ]
  },
  {
   "attachments": {},
   "cell_type": "markdown",
   "metadata": {},
   "source": [
    "Sujet 39"
   ]
  },
  {
   "cell_type": "code",
   "execution_count": 201,
   "metadata": {},
   "outputs": [
    {
     "data": {
      "text/plain": [
       "1134903170"
      ]
     },
     "execution_count": 201,
     "metadata": {},
     "output_type": "execute_result"
    }
   ],
   "source": [
    "def fibonacci(n):\n",
    "    if n==1:\n",
    "        return 1\n",
    "    elif n==2:\n",
    "        return 1\n",
    "    else:\n",
    "        return fibonacci(n-1)+fibonacci(n-2)\n",
    "fibonacci(25)\n",
    "#OU BIEN:\n",
    "def fibo(n):\n",
    "    li = [1,1,0]\n",
    "    for i in range(n-2):\n",
    "        li[2] = li[0]+li[1]\n",
    "        li[0] = li[1]\n",
    "        li[1] = li[2]\n",
    "    return li[2]\n",
    "fibo(45)"
   ]
  },
  {
   "cell_type": "code",
   "execution_count": 205,
   "metadata": {},
   "outputs": [
    {
     "data": {
      "text/plain": [
       "(80, ['c', 'f', 'h'])"
      ]
     },
     "execution_count": 205,
     "metadata": {},
     "output_type": "execute_result"
    }
   ],
   "source": [
    "def pantheon(eleves, notes):\n",
    " note_maxi = 0\n",
    " meilleurs_eleves = []\n",
    " for i in range(len(notes)):\n",
    "    if notes[i] == note_maxi:\n",
    "        meilleurs_eleves.append(eleves[i])\n",
    "    elif notes[i] > note_maxi:\n",
    "        note_maxi = notes[i]\n",
    "        meilleurs_eleves = [eleves[i]]\n",
    " return (note_maxi, meilleurs_eleves)\n",
    "eleves_nsi = ['a','b','c','d','e','f','g','h','i','j']\n",
    "notes_nsi = [30, 40, 80, 60, 58, 80, 75, 80, 60, 24]\n",
    "pantheon(eleves_nsi, notes_nsi)\n",
    "\n"
   ]
  },
  {
   "attachments": {},
   "cell_type": "markdown",
   "metadata": {},
   "source": [
    "Sujet 40"
   ]
  },
  {
   "cell_type": "code",
   "execution_count": 211,
   "metadata": {},
   "outputs": [
    {
     "data": {
      "text/plain": [
       "1"
      ]
     },
     "execution_count": 211,
     "metadata": {},
     "output_type": "execute_result"
    }
   ],
   "source": [
    "def nombre_de_mots(phrase):\n",
    "    nbr_de_mots = 1\n",
    "    for i in range(len(phrase)-1):\n",
    "        if phrase[i] == \" \" and phrase[i+1]!=\"?\" and phrase[i+1]!=\"!\":            \n",
    "            nbr_de_mots+=1\n",
    "    return nbr_de_mots\n",
    "nombre_de_mots('Cet exercice est simple.')\n",
    "nombre_de_mots('Le point d exclamation est separe !')\n",
    "nombre_de_mots('Combien de mots y a t il dans cette phrase ?')\n",
    "nombre_de_mots('Fin.')\n"
   ]
  },
  {
   "cell_type": "code",
   "execution_count": 221,
   "metadata": {},
   "outputs": [
    {
     "data": {
      "text/plain": [
       "6"
      ]
     },
     "execution_count": 221,
     "metadata": {},
     "output_type": "execute_result"
    }
   ],
   "source": [
    "class Noeud:\n",
    " def __init__(self, valeur):\n",
    "    '''Méthode constructeur pour la classe Noeud.\n",
    "    Paramètre d'entrée : valeur (int)'''\n",
    "    self.valeur = valeur\n",
    "    self.gauche = None\n",
    "    self.droit = None\n",
    " def getValeur(self):\n",
    "    '''Méthode accesseur pour obtenir la valeur du noeud\n",
    "    Aucun paramètre en entrée'''\n",
    "    return self.valeur\n",
    "\n",
    " def droitExiste(self):\n",
    "    '''Méthode renvoyant True si le sous-arbre droit est non\n",
    "    vide\n",
    "    Aucun paramètre en entrée'''\n",
    "    return (self.droit is not None)\n",
    "\n",
    " def gaucheExiste(self):\n",
    "    '''Méthode renvoyant True si le sous-arbre gauche est non\n",
    "    vide\n",
    "    Aucun paramètre en entrée'''\n",
    "    return (self.gauche is not None)\n",
    " def inserer(self, cle):\n",
    "    '''Méthode d'insertion de clé dans un arbre binaire de\n",
    "    recherche\n",
    "    Paramètre d'entrée : cle (int)'''\n",
    "    if cle < self.valeur :\n",
    "        # on insère à gauche\n",
    "        if self.gaucheExiste():\n",
    "        # on descend à gauche et on recommence le test initial\n",
    "            self.gauche.inserer(cle)\n",
    "        else:\n",
    "        # on crée un fils gauche\n",
    "            self.gauche = Noeud(cle)\n",
    "    elif cle > self.valeur :\n",
    "        # on insère à droite\n",
    "        if self.droitExiste() :\n",
    "            # on descend à droite et on recommence le test initial\n",
    "            self.droit.inserer(cle)\n",
    "        else:\n",
    "            # on crée un fils droit\n",
    "            self.droit = Noeud(cle)\n",
    "\n",
    "arbre = Noeud(7)\n",
    "for cle in (3, 9, 1, 6):\n",
    "    \n",
    "    arbre.inserer(cle)\n",
    "arbre.gauche.getValeur()\n",
    "arbre.droit.getValeur()\n",
    "arbre.gauche.gauche.getValeur()\n",
    "arbre.gauche.droit.getValeur()\n"
   ]
  },
  {
   "attachments": {},
   "cell_type": "markdown",
   "metadata": {},
   "source": [
    "Sujet 41"
   ]
  },
  {
   "cell_type": "code",
   "execution_count": 224,
   "metadata": {},
   "outputs": [
    {
     "data": {
      "text/plain": [
       "0"
      ]
     },
     "execution_count": 224,
     "metadata": {},
     "output_type": "execute_result"
    }
   ],
   "source": [
    "def recherche(caractere, chaine):\n",
    "    nbr = 0\n",
    "    for lettre in chaine:\n",
    "        if lettre == caractere:\n",
    "            nbr+=1\n",
    "    return nbr\n",
    "recherche('e', \"sciences\")\n",
    "recherche('i', \"mississippi\")\n",
    "recherche('a', \"mississippi\")\n"
   ]
  },
  {
   "cell_type": "code",
   "execution_count": 233,
   "metadata": {},
   "outputs": [
    {
     "data": {
      "text/plain": [
       "[50, 50, 50, 50, 50, 20, 20, 1]"
      ]
     },
     "execution_count": 233,
     "metadata": {},
     "output_type": "execute_result"
    }
   ],
   "source": [
    "valeurs = [100, 50, 20, 10, 5, 2, 1]\n",
    "def rendu_glouton(a_rendre, rang):\n",
    " if a_rendre == 0:\n",
    "    return []\n",
    " v = valeurs[rang]\n",
    " if v <= a_rendre :\n",
    "    return [v] + rendu_glouton(a_rendre - v, rang)\n",
    " else :\n",
    "    return rendu_glouton(a_rendre, rang+1)\n",
    "rendu_glouton(67, 0)\n",
    "rendu_glouton(291, 0)\n",
    "rendu_glouton(291,1)\n"
   ]
  },
  {
   "attachments": {},
   "cell_type": "markdown",
   "metadata": {},
   "source": [
    "Sujet 42"
   ]
  },
  {
   "cell_type": "code",
   "execution_count": 234,
   "metadata": {},
   "outputs": [
    {
     "data": {
      "text/plain": [
       "[-9, 1, 6, 12, 52]"
      ]
     },
     "execution_count": 234,
     "metadata": {},
     "output_type": "execute_result"
    }
   ],
   "source": [
    "def tri_selection(tab):\n",
    "    for i in range(len(tab)):\n",
    "        imin = i\n",
    "        for k in range(i,len(tab)):\n",
    "            if tab[k]<tab[imin]:\n",
    "                imin = k\n",
    "        tab[imin],tab[i] = tab[i],tab[imin]\n",
    "    return tab\n",
    "tri_selection([1, 52, 6, -9, 12])"
   ]
  },
  {
   "cell_type": "code",
   "execution_count": 237,
   "metadata": {},
   "outputs": [
    {
     "name": "stdout",
     "output_type": "stream",
     "text": [
      "Bravo ! Le nombre était  74\n",
      "Nombre d'essais:  5\n"
     ]
    }
   ],
   "source": [
    "from random import randint\n",
    "def plus_ou_moins():\n",
    " nb_mystere = randint(1, 99)\n",
    " nb_test = int(input(\"Proposez un nombre entre 1 et 99 : \"))\n",
    " compteur = 0\n",
    " while nb_mystere != nb_test and compteur < 10:\n",
    "    compteur = compteur + 1\n",
    "    if nb_mystere > nb_test:\n",
    "        nb_test = int(input(\"Trop petit ! Testez encore : \"))\n",
    "    else:\n",
    "        nb_test = int(input(\"Trop grand ! Testez encore : \"))\n",
    " if nb_mystere == nb_test:\n",
    "    print(\"Bravo ! Le nombre était \", nb_mystere)\n",
    "    print(\"Nombre d'essais: \", compteur)\n",
    " else:\n",
    "    print(\"Perdu ! Le nombre était \", nb_mystere)\n",
    "\n",
    "plus_ou_moins()"
   ]
  },
  {
   "attachments": {},
   "cell_type": "markdown",
   "metadata": {},
   "source": [
    "Sujet 43"
   ]
  },
  {
   "cell_type": "code",
   "execution_count": 245,
   "metadata": {},
   "outputs": [
    {
     "data": {
      "text/plain": [
       "[1, 0]"
      ]
     },
     "execution_count": 245,
     "metadata": {},
     "output_type": "execute_result"
    }
   ],
   "source": [
    "def ecriture_binaire_entier_positif(n):\n",
    "    li_bin = []\n",
    "    if n==0:\n",
    "        return [0]\n",
    "    while n >0:\n",
    "        b = n%2\n",
    "        n = n//2\n",
    "        li_bin.append(b)\n",
    "    li_bin.reverse()\n",
    "    return li_bin\n",
    "ecriture_binaire_entier_positif(2)"
   ]
  },
  {
   "cell_type": "code",
   "execution_count": 255,
   "metadata": {},
   "outputs": [
    {
     "data": {
      "text/plain": [
       "[3, 4, 7, 9]"
      ]
     },
     "execution_count": 255,
     "metadata": {},
     "output_type": "execute_result"
    }
   ],
   "source": [
    "def tri_bulles(T):\n",
    " '''\n",
    " Renvoie le tableau T trié par ordre croissant\n",
    " '''\n",
    " n = len(T)\n",
    " for i in range(n-1,0,-1):\n",
    "    for j in range(i):\n",
    "        if T[j] > T[j+1]:\n",
    "            temp = T[j]\n",
    "            T[j] = T[j+1]\n",
    "            T[j+1] = temp\n",
    " return T\n",
    "tri_bulles([9, 3, 7, 2, 3, 1, 6])\n",
    "tri_bulles([9, 7, 4, 3])\n",
    "\n"
   ]
  },
  {
   "attachments": {},
   "cell_type": "markdown",
   "metadata": {},
   "source": [
    "Sujet 44"
   ]
  },
  {
   "cell_type": "code",
   "execution_count": 256,
   "metadata": {},
   "outputs": [
    {
     "data": {
      "text/plain": [
       "'euqitamrofni'"
      ]
     },
     "execution_count": 256,
     "metadata": {},
     "output_type": "execute_result"
    }
   ],
   "source": [
    "def renverse(mot):\n",
    "    mot_inverse = \"\"\n",
    "    for lettre in mot:\n",
    "        mot_inverse = lettre+mot_inverse\n",
    "    return mot_inverse\n",
    "renverse(\"informatique\")\n"
   ]
  },
  {
   "cell_type": "code",
   "execution_count": 260,
   "metadata": {},
   "outputs": [],
   "source": [
    "def crible(n):\n",
    " \"\"\"\n",
    " Renvoie un tableau contenant tous les nombres premiers plus petits\n",
    " que n\n",
    " \"\"\"\n",
    " premiers = []\n",
    " tab = [True] * n\n",
    " tab[0], tab[1] = False, False\n",
    " for i in range(2, n):\n",
    "    if tab[i] == True:\n",
    "        premiers.append(i)\n",
    "        for multiple in range(2 * i, n, i):\n",
    "            tab[multiple] = False\n",
    " return premiers\n",
    "assert crible(40) == [2, 3, 5, 7, 11, 13, 17, 19, 23, 29, 31, 37]"
   ]
  },
  {
   "attachments": {},
   "cell_type": "markdown",
   "metadata": {},
   "source": [
    "Sujet 45"
   ]
  },
  {
   "cell_type": "code",
   "execution_count": 269,
   "metadata": {},
   "outputs": [
    {
     "data": {
      "text/plain": [
       "True"
      ]
     },
     "execution_count": 269,
     "metadata": {},
     "output_type": "execute_result"
    }
   ],
   "source": [
    "def rangement_valeurs(notes_eval):\n",
    "    liste_rangee = [0]*11\n",
    "    for note in notes_eval:\n",
    "        liste_rangee[note] +=1\n",
    "    return liste_rangee\n",
    "def notes_triees(effectifs_notes):\n",
    "    liste_triee = []\n",
    "    for i in range(len(effectifs_notes)) :\n",
    "        for j in range(effectifs_notes[i]):\n",
    "            liste_triee.append(i)\n",
    "    return liste_triee  \n",
    "\n",
    "notes_eval = [2, 0, 5, 9, 6, 9, 10, 5, 7, 9, 9, 5, 0, 9, 6, 5, 4]\n",
    "effectifs_notes = rangement_valeurs(notes_eval)\n",
    "notes_triees(effectifs_notes)==[0, 0, 2, 4, 5, 5, 5, 5, 6, 6, 7, 9, 9, 9, 9, 9, 10]\n",
    "\n"
   ]
  },
  {
   "cell_type": "code",
   "execution_count": 276,
   "metadata": {},
   "outputs": [
    {
     "name": "stdout",
     "output_type": "stream",
     "text": [
      "11001\n"
     ]
    },
    {
     "data": {
      "text/plain": [
       "42"
      ]
     },
     "execution_count": 276,
     "metadata": {},
     "output_type": "execute_result"
    }
   ],
   "source": [
    "def dec_to_bin (nb_dec):\n",
    " q, r = nb_dec // 2, nb_dec % 2\n",
    " if q == 0:\n",
    "    return str(r)\n",
    " else:\n",
    "    return dec_to_bin(q) + str(r)\n",
    "print(dec_to_bin(25))\n",
    "def bin_to_dec(nb_bin):\n",
    " if nb_bin == '0':\n",
    "    return 0\n",
    " elif nb_bin == \"1\":\n",
    "    return 1\n",
    " else:\n",
    "    if nb_bin[-1] == '0':\n",
    "        bit_droit = 0\n",
    "    else:\n",
    "        bit_droit = 1\n",
    "    return  2* bin_to_dec(nb_bin[:-1]) + bit_droit\n",
    "bin_to_dec('101010')\n"
   ]
  }
 ],
 "metadata": {
  "kernelspec": {
   "display_name": "Python 3",
   "language": "python",
   "name": "python3"
  },
  "language_info": {
   "codemirror_mode": {
    "name": "ipython",
    "version": 3
   },
   "file_extension": ".py",
   "mimetype": "text/x-python",
   "name": "python",
   "nbconvert_exporter": "python",
   "pygments_lexer": "ipython3",
   "version": "3.10.10"
  },
  "orig_nbformat": 4,
  "vscode": {
   "interpreter": {
    "hash": "8822848ab7b520f0d4cddc4419de9e14d405e2704106ea871dbe8aae3da0a52c"
   }
  }
 },
 "nbformat": 4,
 "nbformat_minor": 2
}
